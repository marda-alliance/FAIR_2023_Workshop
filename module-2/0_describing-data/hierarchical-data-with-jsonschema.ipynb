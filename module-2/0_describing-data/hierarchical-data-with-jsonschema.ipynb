{
 "cells": [
  {
   "cell_type": "markdown",
   "id": "1c779802-1430-4132-8ce1-f74f595402c5",
   "metadata": {},
   "source": [
    "# Describing Hierarchical Data with JSON\n",
    "The JSON data format is widely used to describe data with a hierarchical structure. \n",
    "Such structures are composed of nested set of rules like \"addresses have street numbers\", and \"street numbers are positive integers.\"\n",
    "This notebook will show you how to create simple JSON documents then enforce their format requirements using the JSON Schema."
   ]
  },
  {
   "cell_type": "code",
   "execution_count": null,
   "id": "c5f632b7-9ef8-45e8-a300-2d897af36a44",
   "metadata": {
    "tags": []
   },
   "outputs": [],
   "source": [
    "from jsonschema import validate, ValidationError\n",
    "import json"
   ]
  },
  {
   "cell_type": "markdown",
   "id": "45e75abb-b574-4530-adf6-17e7917d75fa",
   "metadata": {},
   "source": [
    "## First, Reading and Writing a JSON Document in Python\n",
    "JSON documents map neatly to the \"dictionary\" data structure and many of the other data types used in Python. \n",
    "Accordingly, there is a [JSON module](https://docs.python.org/3/library/json.html) available in all installations of Python for moving to- and from this data format.\n",
    "\n",
    "Let's start with some simple data: Only one level of nesting and only two types of data, integers and strings."
   ]
  },
  {
   "cell_type": "code",
   "execution_count": null,
   "id": "7297b5b9-ea09-463d-b66a-02df89616c1f",
   "metadata": {
    "tags": []
   },
   "outputs": [],
   "source": [
    "my_address = {\n",
    "    'number': 9700,\n",
    "    'direction': 'S',\n",
    "    'street_name': 'Cass',\n",
    "    'street_suffix': 'Ave',\n",
    "    'city': 'Lemont', \n",
    "    'state': 'IL',\n",
    "    'zip': 60439\n",
    "}"
   ]
  },
  {
   "cell_type": "markdown",
   "id": "6673bf0e-a900-4655-872f-63cdbfa6de38",
   "metadata": {},
   "source": [
    "Converting this to JSON is simple"
   ]
  },
  {
   "cell_type": "code",
   "execution_count": null,
   "id": "7cabecca-7d63-4140-b0d6-dde2a7c733d9",
   "metadata": {
    "tags": []
   },
   "outputs": [],
   "source": [
    "print(json.dumps(my_address, indent=2))"
   ]
  },
  {
   "cell_type": "markdown",
   "id": "66a2d59e-2b57-45c1-897d-8afa5a69a1c9",
   "metadata": {},
   "source": [
    "JSON-format data looks almost exactly like Python code ([JSON's syntax is from a programming language](https://en.wikipedia.org/wiki/JSON#History)). \n",
    "There are differences including JSON only allowing double quotes for marking strings and only allowing keys to be strings, but they only rarely come up as problem."
   ]
  },
  {
   "cell_type": "code",
   "execution_count": null,
   "id": "5c9f93a3-c4fe-4896-9b0f-7dc0aea32a47",
   "metadata": {
    "tags": []
   },
   "outputs": [],
   "source": [
    "json.dumps({1: 1})"
   ]
  },
  {
   "cell_type": "code",
   "execution_count": null,
   "id": "8e59877c-07c1-4738-9543-0db8d0d68065",
   "metadata": {
    "tags": []
   },
   "outputs": [],
   "source": [
    "try:\n",
    "    json.loads(\"{'1': 1}\")\n",
    "except json.JSONDecodeError as e:\n",
    "    print(e)"
   ]
  },
  {
   "cell_type": "markdown",
   "id": "31b8116f-c1b1-4bda-ac8a-e30d9b1f9093",
   "metadata": {},
   "source": [
    "In short, it is pretty easy to write and understand what a JSON document can look like. \n",
    "\n",
    "The challenge is defining what it _must_ look like for your data."
   ]
  },
  {
   "cell_type": "markdown",
   "id": "293461f1-5438-4e18-ad94-2ae0f91b0072",
   "metadata": {},
   "source": [
    "## JSON Schemas\n",
    "[JSON Schemas](https://json-schema.org/) enforce what keys and values are allowed for a document to belong to certain format.\n",
    "\n",
    "All JSON schemas are JSON documents which start with a special preamble that defines them as schemas."
   ]
  },
  {
   "cell_type": "code",
   "execution_count": null,
   "id": "e028ba73-5cea-49f6-b0f6-5ab8c86e9396",
   "metadata": {
    "tags": []
   },
   "outputs": [],
   "source": [
    "schema = {\n",
    "    \"$schema\": \"https://json-schema.org/draft/2020-12/schema\",  # References which version of the Schema\n",
    "    \"title\": \"Address\",  # A short name for the data type\n",
    "    \"description\": \"A location recognized by the US Postal Service\",  # A longer-form explanation\n",
    "    \"type\": \"object\"  # What type of data it is \"more on this later.\"\n",
    "}"
   ]
  },
  {
   "cell_type": "markdown",
   "id": "9db8241a-479c-471f-a28f-913ecd901bef",
   "metadata": {},
   "source": [
    "The rest of the schema is a series of options and nested structures defining the allowed keys and their types"
   ]
  },
  {
   "cell_type": "code",
   "execution_count": null,
   "id": "eb448a9a-e40e-4ba7-8647-992019b59edd",
   "metadata": {
    "tags": []
   },
   "outputs": [],
   "source": [
    "schema['properties'] = {\n",
    "    'number': {\n",
    "        'title': 'House number',\n",
    "        'description': 'The position of the building along a street.',\n",
    "        'type': 'integer',\n",
    "    },\n",
    "    'direction': {\n",
    "        'title': 'Direction',\n",
    "        'description': 'Direction of the street relative to the center of the numbering system.',\n",
    "        'type': 'string'\n",
    "    }\n",
    "}"
   ]
  },
  {
   "cell_type": "markdown",
   "id": "10814c68-794a-4e6a-8e28-9652e806d7ea",
   "metadata": {},
   "source": [
    "The similarity between the preamble and descriptions of the blocks is very intentional. \n",
    "The format is recursive, in that keys of the document must also be valid JSON documents. \n",
    "\n",
    "Documents are composed of documents."
   ]
  },
  {
   "cell_type": "code",
   "execution_count": null,
   "id": "88cee0c9-3854-48cd-9d70-d40f6ac849ac",
   "metadata": {
    "tags": []
   },
   "outputs": [],
   "source": [
    "print(json.dumps(schema, indent=2))"
   ]
  },
  {
   "cell_type": "markdown",
   "id": "cdef11b8-7eb3-46db-82e0-ab9a5155a3dd",
   "metadata": {},
   "source": [
    "## Validating a JSON Document\n",
    "[Many libraries](https://json-schema.org/implementations.html) exist for checking whether a JSON document matches a schema.\n",
    "We'll show you how to use one of the common Python ones, [`jsonschema`](https://python-jsonschema.readthedocs.io/en/stable/)"
   ]
  },
  {
   "cell_type": "code",
   "execution_count": null,
   "id": "cd7b7d05-792d-46c0-b5ce-980a9d88bc82",
   "metadata": {
    "tags": []
   },
   "outputs": [],
   "source": [
    "validate(my_address, schema)  # All you do"
   ]
  },
  {
   "cell_type": "code",
   "execution_count": null,
   "id": "6def6be7-068d-4abf-a9f3-9561f3b89749",
   "metadata": {
    "tags": []
   },
   "outputs": [],
   "source": [
    "try: \n",
    "    validate({'number': '1'}, schema)\n",
    "except ValidationError as e:\n",
    "    print(e)"
   ]
  },
  {
   "cell_type": "markdown",
   "id": "5066b854-7f41-4285-a478-4047d3e4f21b",
   "metadata": {},
   "source": [
    "It will detect when your document doesn't fit the schema, and why."
   ]
  },
  {
   "cell_type": "markdown",
   "id": "a528599b-fb8c-4e7c-b522-cbecfa3bb93d",
   "metadata": {},
   "source": [
    "## Scheming a Better Schema\n",
    "The example schema we give above is very simple. It only detects that we have the proper types for each value, but there's a lot more that makes an address an address.\n",
    "\n",
    "For one, the house number and a ZIP code are required. For that we add the [\"required\"](https://json-schema.org/understanding-json-schema/reference/object.html#required-properties) option to describing the address. "
   ]
  },
  {
   "cell_type": "code",
   "execution_count": null,
   "id": "9ca38580-2421-4e93-975e-a5d1e84faa4a",
   "metadata": {
    "tags": []
   },
   "outputs": [],
   "source": [
    "schema['required'] = ['number', 'street_name', 'zip']"
   ]
  },
  {
   "cell_type": "code",
   "execution_count": null,
   "id": "3e4323fb-3264-4422-9455-f586541893e7",
   "metadata": {
    "tags": []
   },
   "outputs": [],
   "source": [
    "try: \n",
    "    validate({'number': 4, 'street_name': 'Main'}, schema)\n",
    "except ValidationError as e:\n",
    "    print(e.message)"
   ]
  },
  {
   "cell_type": "code",
   "execution_count": null,
   "id": "732968bf-248c-443c-9c5f-80a4bb952ab1",
   "metadata": {
    "tags": []
   },
   "outputs": [],
   "source": [
    "validate({'number': 4, 'street_name': 'Main', 'zip': 41400}, schema)"
   ]
  },
  {
   "cell_type": "markdown",
   "id": "5ae4e77f-acc5-4ae1-8f3e-187dd5e64ec1",
   "metadata": {},
   "source": [
    "Another example is assigning that street numbers must be positive. Add that requirement by adding an option to the \"number\" property.\n",
    "\n"
   ]
  },
  {
   "cell_type": "code",
   "execution_count": null,
   "id": "167d6df1-4a46-4433-b8d3-3b2bf7d0fd73",
   "metadata": {
    "tags": []
   },
   "outputs": [],
   "source": [
    "schema['properties']['number']['exclusiveMinimum'] = 0"
   ]
  },
  {
   "cell_type": "code",
   "execution_count": null,
   "id": "af59dba9-de7e-4d7d-8ba2-fb9e8c754dad",
   "metadata": {
    "tags": []
   },
   "outputs": [],
   "source": [
    "schema['properties']['number']"
   ]
  },
  {
   "cell_type": "code",
   "execution_count": null,
   "id": "82b829ec-ff3b-4b57-9b00-30b02cceaf22",
   "metadata": {
    "tags": []
   },
   "outputs": [],
   "source": [
    "try: \n",
    "    validate({'number': -1, 'street_name': 'Main', 'zip': 41400}, schema)\n",
    "except ValidationError as e:\n",
    "    print(e.message)"
   ]
  },
  {
   "cell_type": "markdown",
   "id": "79f73c37-d384-45a4-9740-764d63dedf86",
   "metadata": {},
   "source": [
    "The possible options for testing types vary depending on the type of the data. For example, text strings [can have required lengths or match certain patterns.](https://json-schema.org/understanding-json-schema/reference/string.html)\n",
    "\n",
    "Every `type` has a different set of requirements."
   ]
  },
  {
   "cell_type": "markdown",
   "id": "abf52cc6-4a82-44af-a4ea-28f4269a98be",
   "metadata": {},
   "source": [
    "## Other Types of Data\n",
    "Hierarchical formats can be more than simple single-level mappings of name to numbers or text. Fields within the document can be lists of data or other documents."
   ]
  },
  {
   "cell_type": "code",
   "execution_count": null,
   "id": "93e21c57-b3a4-45dd-900a-292763815cf0",
   "metadata": {
    "tags": []
   },
   "outputs": [],
   "source": [
    "schema['properties']['residents'] = {\n",
    "    'type': 'array',\n",
    "    'description': 'Names of residents associated with this address.',\n",
    "    'items': {\n",
    "        'type': 'string'\n",
    "    }\n",
    "}"
   ]
  },
  {
   "cell_type": "code",
   "execution_count": null,
   "id": "80a4a29f-c2aa-4542-a9fa-dd44d9888c58",
   "metadata": {
    "tags": []
   },
   "outputs": [],
   "source": [
    "validate({\n",
    "    'number': 1, 'street_name': 'Main',\n",
    "    'zip': 41400,\n",
    "    'residents': ['Logan Ward'],},\n",
    "schema)"
   ]
  },
  {
   "cell_type": "markdown",
   "id": "3354cbbb-48b1-4e0c-bb23-c3e603e6206f",
   "metadata": {},
   "source": [
    "The description of the [array type](https://json-schema.org/understanding-json-schema/reference/array.html) should feel similar. It has some standard fields (e.g., type, description) and others that are specific to its type (e.g., items). \n",
    "\n",
    "The type of a field can be another document (known as a \"object' to JSON schema)."
   ]
  },
  {
   "cell_type": "code",
   "execution_count": null,
   "id": "af87aeea-3cf5-41fc-a6b3-0af08683d317",
   "metadata": {
    "tags": []
   },
   "outputs": [],
   "source": [
    "schema['properties']['building'] = {\n",
    "    'type': 'object',\n",
    "    'description': 'Description of the building at this address.',\n",
    "    'required': ['function'],\n",
    "    'properties': {\n",
    "        'function': {\n",
    "            'enum': ['residential', 'commercial', 'industrial'],  # Fixes the allowed values\n",
    "            'description': 'Use of the building.'\n",
    "        },\n",
    "        'floors': {\n",
    "            'type': 'integer',\n",
    "            'description': 'Number of stories in the building.',\n",
    "            'minimum': 1,\n",
    "        }\n",
    "    }\n",
    "}"
   ]
  },
  {
   "cell_type": "markdown",
   "id": "373560c2-42a2-420d-84dc-2349fa08f275",
   "metadata": {},
   "source": [
    "**Warm-up Exercise**: Add that the house at 1 Main is a 1-story residential building. "
   ]
  },
  {
   "cell_type": "code",
   "execution_count": null,
   "id": "67d17633-6a8c-43e6-86e2-f03418b8487c",
   "metadata": {
    "tags": []
   },
   "outputs": [],
   "source": [
    "raise NotImplementedError()\n",
    "validate({\n",
    "    'number': 1, 'street_name': 'Main',\n",
    "    'zip': 41400,\n",
    "    'residents': ['Logan Ward'],\n",
    "}, schema)"
   ]
  },
  {
   "cell_type": "markdown",
   "id": "c68c093f-26d7-4145-82f3-50d495efb928",
   "metadata": {},
   "source": [
    "Double click this cell to see an answer.\n",
    "<code hidden>\n",
    "{\n",
    "    'number': 1, 'street_name': 'Main',\n",
    "    'zip': 41400,\n",
    "    'residents': ['Logan Ward'],\n",
    "    'building': {'function': 'residential', 'floors': 1}\n",
    "}\n",
    "</code>"
   ]
  },
  {
   "cell_type": "markdown",
   "id": "50b75ba6-12f5-48fa-9f2e-abc171ce459e",
   "metadata": {},
   "source": [
    "## Exercise: Describe Alloys and Heat Treatment Schedules\n",
    "Build a schema that describes heat treatment schedules"
   ]
  },
  {
   "cell_type": "code",
   "execution_count": null,
   "id": "b9c33dcd-d376-4b2a-a6e0-ec20cfbeaa87",
   "metadata": {
    "tags": []
   },
   "outputs": [],
   "source": [
    "treatment_a = {\n",
    "    'name': 'long aged',\n",
    "    'steps': [\n",
    "        {'type': 'ramp', 'rate': 1.5, 'temperature': 160},\n",
    "        {'type': 'hold', 'time': 8, 'temperature': 160},\n",
    "        {'type': 'ramp', 'rate': 100, 'temperature': 100},\n",
    "        {'type': 'quench', 'medium': 'water'},\n",
    "    ]\n",
    "}"
   ]
  },
  {
   "cell_type": "code",
   "execution_count": null,
   "id": "6f1b4c62-4188-42e1-b454-fe733a35b6ff",
   "metadata": {
    "tags": []
   },
   "outputs": [],
   "source": [
    "treatment_b = {\n",
    "    'name': 'rapid',\n",
    "    'steps': [\n",
    "        {'type': 'ramp', 'rate': 1.5, 'temperature': 160},\n",
    "        {'type': 'hold', 'time': 0.5, 'temperature': 320},\n",
    "        {'type': 'quench', 'medium': 'water'},\n",
    "    ]\n",
    "}"
   ]
  },
  {
   "cell_type": "markdown",
   "id": "b15ba189-4f51-412e-afa1-43a820361a2f",
   "metadata": {},
   "source": [
    "Build a schema that: \n",
    "- [ ] Ensures that documents have a \"name\" field\n",
    "- [ ] Ensures that there are at least 3 steps (see [array](https://json-schema.org/understanding-json-schema/reference/array.html))\n",
    "- [ ] Ensures that each step contains a type of ramp, hold, or quench\n",
    "- [ ] Describes that times are in hours, rates are in C/s, and temperatures are in C."
   ]
  },
  {
   "cell_type": "code",
   "execution_count": null,
   "id": "0c14a685-af0d-456f-b25f-73400a64cd51",
   "metadata": {
    "tags": []
   },
   "outputs": [],
   "source": [
    "schema = {}\n",
    "raise NotImplementedError()"
   ]
  },
  {
   "cell_type": "code",
   "execution_count": null,
   "id": "cbde349a-20bb-4891-ab89-d72bb9cfb33a",
   "metadata": {
    "tags": []
   },
   "outputs": [],
   "source": [
    "for x in [treatment_b, treatment_a]:\n",
    "    validate(x, schema) "
   ]
  },
  {
   "cell_type": "markdown",
   "id": "213e89f7-f188-4732-8ed8-12250723d703",
   "metadata": {},
   "source": [
    "Double click for an answer.\n",
    "<code hidden>\n",
    "    schema = {\n",
    "    'description': 'Heat treatment schedule for an alloy',\n",
    "    'type': 'object', \n",
    "    'properties': {\n",
    "        'name': {\n",
    "            'description': 'A recognizable name for this schedule.',\n",
    "            'type': 'string',\n",
    "        },\n",
    "        'steps': {\n",
    "            'description': 'Each step of a treatment schedule',\n",
    "            'type': 'array',\n",
    "            'minContains': 3,\n",
    "            'items': {\n",
    "                'type': 'object',\n",
    "                'properties': {\n",
    "                    'type': {'description': 'Type of the step', 'enum': ['ramp', 'hold', 'quench']},\n",
    "                    'time': {'description': 'Duration of the hold time (units: hr)', 'type': 'number'},\n",
    "                    'temperature': {'description': 'Hold temperature or end temperature of a ramp (units: C)', 'type': 'number'},\n",
    "                    'medium': {'descripton': 'Quench medium', 'type': 'string'}\n",
    "                }\n",
    "            }\n",
    "        }\n",
    "    }\n",
    "}\n",
    "</code>"
   ]
  },
  {
   "cell_type": "markdown",
   "id": "b1856f63-14be-4f81-81c2-13275645a012",
   "metadata": {},
   "source": [
    "Bonus steps:\n",
    "- Enforce that times must be positive\n",
    "- Prevent other keys from being allowed\n",
    "- Ensure that \"medium\" is set if \"quench\" is the type. (Hint: `oneOf`)"
   ]
  },
  {
   "cell_type": "markdown",
   "id": "55c0432e-65f9-41f3-97f5-3a481a7cff75",
   "metadata": {},
   "source": [
    "## Learning More\n",
    "This notebook only scratches the surface of JSON schema. Good steps to learn next include:\n",
    "\n",
    "1. Going through the [Step-by-Step from JSONSchema.org](https://json-schema.org/learn/getting-started-step-by-step.html)\n",
    "1. Splitting the heat treatment example into multiple files, then assembling the heat treatment schedule as a [complex schema](https://json-schema.org/understanding-json-schema/structuring.html)."
   ]
  },
  {
   "cell_type": "code",
   "execution_count": null,
   "id": "4cfc6d02-d069-4a49-9eb8-5cfedeae5481",
   "metadata": {},
   "outputs": [],
   "source": []
  }
 ],
 "metadata": {
  "kernelspec": {
   "display_name": "Python 3 (ipykernel)",
   "language": "python",
   "name": "python3"
  },
  "language_info": {
   "codemirror_mode": {
    "name": "ipython",
    "version": 3
   },
   "file_extension": ".py",
   "mimetype": "text/x-python",
   "name": "python",
   "nbconvert_exporter": "python",
   "pygments_lexer": "ipython3",
   "version": "3.10.12"
  }
 },
 "nbformat": 4,
 "nbformat_minor": 5
}
