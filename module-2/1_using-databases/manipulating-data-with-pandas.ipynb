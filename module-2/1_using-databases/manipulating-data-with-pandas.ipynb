{
 "cells": [
  {
   "cell_type": "markdown",
   "id": "bf23c371-e687-4177-84a7-8174be7df75f",
   "metadata": {},
   "source": [
    "# Basics of Pandas\n",
    "Pandas is a great tool for manipulating tabular data in Python, which makes it a great way to learn basic functions for working with datasets.\n",
    "\n",
    "We'll create an example where we compare the experimental and computed bandgaps for different materials."
   ]
  },
  {
   "cell_type": "code",
   "execution_count": 1,
   "id": "b1cc2659-5b19-412a-a056-6ce71dc19c86",
   "metadata": {
    "tags": []
   },
   "outputs": [],
   "source": [
    "%matplotlib inline\n",
    "from matplotlib import pyplot as plt\n",
    "import pandas as pd"
   ]
  },
  {
   "cell_type": "markdown",
   "id": "909050b0-5655-426a-a5a6-65fdcdc924e2",
   "metadata": {},
   "source": [
    "Data locations. We are going to use [experiment](https://foundry-ml.org/#/datasets/10.18126%2Fwg3u-g8vu) and [computational](https://foundry-ml.org/#/datasets/10.18126%2F7io9-1z9k) datasets hosted by the [Foundry project](https://foundry-ml.org/#/)."
   ]
  },
  {
   "cell_type": "code",
   "execution_count": 2,
   "id": "f68d2b96-6288-4d39-a45d-9ce5614d5625",
   "metadata": {
    "tags": []
   },
   "outputs": [],
   "source": [
    "exp_url = 'https://data.materialsdatafacility.org/foundry/foundry_experimental_band_gaps_v1.1/data_exp_no_repeat_new.json'\n",
    "dft_url = 'https://data.materialsdatafacility.org/foundry/foundry_assorted_computational_band_gaps_v1.1/All_no_MP_Aflow_OQMD_new.json'"
   ]
  },
  {
   "cell_type": "markdown",
   "id": "0f268276-13d7-44dd-9c68-264e9d0c8332",
   "metadata": {},
   "source": [
    "## Reading\n",
    "Pandas [can read from numerous tabular data formats](https://pandas.pydata.org/docs/user_guide/io.html). All are all named `read_X` and can download data from the internet for you."
   ]
  },
  {
   "cell_type": "code",
   "execution_count": 3,
   "id": "3fdddb06-6239-4c76-96bc-d329bff6661a",
   "metadata": {
    "tags": []
   },
   "outputs": [
    {
     "name": "stdout",
     "output_type": "stream",
     "text": [
      "Loaded 2808 records\n"
     ]
    }
   ],
   "source": [
    "exp_data = pd.read_json(exp_url, lines=True)\n",
    "print(f'Loaded {len(exp_data)} records')"
   ]
  },
  {
   "cell_type": "markdown",
   "id": "4d7d2499-27d0-456b-a736-a637966d4c9e",
   "metadata": {},
   "source": [
    "It's that easy. We now have a tabular dataset with a few thousand records and more data than we'll need, such as the full structure."
   ]
  },
  {
   "cell_type": "code",
   "execution_count": 4,
   "id": "06b76f9b-35cd-449c-9c98-e6f6c6779da2",
   "metadata": {
    "tags": []
   },
   "outputs": [
    {
     "data": {
      "text/html": [
       "<div>\n",
       "<style scoped>\n",
       "    .dataframe tbody tr th:only-of-type {\n",
       "        vertical-align: middle;\n",
       "    }\n",
       "\n",
       "    .dataframe tbody tr th {\n",
       "        vertical-align: top;\n",
       "    }\n",
       "\n",
       "    .dataframe thead th {\n",
       "        text-align: right;\n",
       "    }\n",
       "</style>\n",
       "<table border=\"1\" class=\"dataframe\">\n",
       "  <thead>\n",
       "    <tr style=\"text-align: right;\">\n",
       "      <th></th>\n",
       "      <th>reference</th>\n",
       "      <th>icsd_id</th>\n",
       "      <th>structure</th>\n",
       "      <th>composition</th>\n",
       "      <th>comments</th>\n",
       "      <th>bandgap type</th>\n",
       "      <th>exp method</th>\n",
       "      <th>bandgap value (eV)</th>\n",
       "      <th>space group</th>\n",
       "      <th>temp (K)</th>\n",
       "    </tr>\n",
       "  </thead>\n",
       "  <tbody>\n",
       "    <tr>\n",
       "      <th>0</th>\n",
       "      <td>41</td>\n",
       "      <td>MPDS-S1531436</td>\n",
       "      <td>{'@module': 'pymatgen.core.structure', '@class...</td>\n",
       "      <td>Ge0.9Si0.08C0.02</td>\n",
       "      <td>MPDS database</td>\n",
       "      <td></td>\n",
       "      <td>O</td>\n",
       "      <td>1.05</td>\n",
       "      <td>Fd-3m</td>\n",
       "      <td></td>\n",
       "    </tr>\n",
       "    <tr>\n",
       "      <th>1</th>\n",
       "      <td>1</td>\n",
       "      <td>238499</td>\n",
       "      <td>{'@module': 'pymatgen.core.structure', '@class...</td>\n",
       "      <td>CsSc(SeO3)2</td>\n",
       "      <td>UV-vis diffuse reflectance spectroscopy</td>\n",
       "      <td></td>\n",
       "      <td>O</td>\n",
       "      <td>5.2</td>\n",
       "      <td>Pnma</td>\n",
       "      <td>300</td>\n",
       "    </tr>\n",
       "    <tr>\n",
       "      <th>2</th>\n",
       "      <td>1</td>\n",
       "      <td>416461</td>\n",
       "      <td>{'@module': 'pymatgen.core.structure', '@class...</td>\n",
       "      <td>EuLiH3</td>\n",
       "      <td>Optical</td>\n",
       "      <td></td>\n",
       "      <td>O</td>\n",
       "      <td>1.5</td>\n",
       "      <td>Pm-3m</td>\n",
       "      <td></td>\n",
       "    </tr>\n",
       "    <tr>\n",
       "      <th>3</th>\n",
       "      <td>1</td>\n",
       "      <td>262893</td>\n",
       "      <td>{'@module': 'pymatgen.core.structure', '@class...</td>\n",
       "      <td>Ba2InErSe5</td>\n",
       "      <td>UV-vis-NIR diffuse reflectance spectroscopy</td>\n",
       "      <td></td>\n",
       "      <td>O</td>\n",
       "      <td>2.29</td>\n",
       "      <td>Cmc2_1</td>\n",
       "      <td></td>\n",
       "    </tr>\n",
       "    <tr>\n",
       "      <th>4</th>\n",
       "      <td>1</td>\n",
       "      <td>50460</td>\n",
       "      <td>{'@module': 'pymatgen.core.structure', '@class...</td>\n",
       "      <td>Cs2AgVS4</td>\n",
       "      <td>Optical</td>\n",
       "      <td></td>\n",
       "      <td>O</td>\n",
       "      <td>1.77</td>\n",
       "      <td>Fddd</td>\n",
       "      <td></td>\n",
       "    </tr>\n",
       "  </tbody>\n",
       "</table>\n",
       "</div>"
      ],
      "text/plain": [
       "  reference        icsd_id                                          structure  \\\n",
       "0        41  MPDS-S1531436  {'@module': 'pymatgen.core.structure', '@class...   \n",
       "1         1         238499  {'@module': 'pymatgen.core.structure', '@class...   \n",
       "2         1         416461  {'@module': 'pymatgen.core.structure', '@class...   \n",
       "3         1         262893  {'@module': 'pymatgen.core.structure', '@class...   \n",
       "4         1          50460  {'@module': 'pymatgen.core.structure', '@class...   \n",
       "\n",
       "        composition                                      comments  \\\n",
       "0  Ge0.9Si0.08C0.02                                 MPDS database   \n",
       "1       CsSc(SeO3)2      UV-vis diffuse reflectance spectroscopy    \n",
       "2            EuLiH3                                      Optical    \n",
       "3        Ba2InErSe5  UV-vis-NIR diffuse reflectance spectroscopy    \n",
       "4          Cs2AgVS4                                      Optical    \n",
       "\n",
       "  bandgap type exp method bandgap value (eV) space group temp (K)  \n",
       "0                       O               1.05       Fd-3m           \n",
       "1                       O               5.2         Pnma      300  \n",
       "2                       O               1.5        Pm-3m           \n",
       "3                       O              2.29       Cmc2_1           \n",
       "4                       O              1.77         Fddd           "
      ]
     },
     "execution_count": 4,
     "metadata": {},
     "output_type": "execute_result"
    }
   ],
   "source": [
    "exp_data.head()"
   ]
  },
  {
   "cell_type": "markdown",
   "id": "fdeebe12-223f-434b-9948-9ce501d5413b",
   "metadata": {},
   "source": [
    "You can delete columns and from the dataset pretty easily."
   ]
  },
  {
   "cell_type": "code",
   "execution_count": 5,
   "id": "769897f7-cfd5-4be8-8987-684ccd0b163c",
   "metadata": {
    "tags": []
   },
   "outputs": [
    {
     "data": {
      "text/html": [
       "<div>\n",
       "<style scoped>\n",
       "    .dataframe tbody tr th:only-of-type {\n",
       "        vertical-align: middle;\n",
       "    }\n",
       "\n",
       "    .dataframe tbody tr th {\n",
       "        vertical-align: top;\n",
       "    }\n",
       "\n",
       "    .dataframe thead th {\n",
       "        text-align: right;\n",
       "    }\n",
       "</style>\n",
       "<table border=\"1\" class=\"dataframe\">\n",
       "  <thead>\n",
       "    <tr style=\"text-align: right;\">\n",
       "      <th></th>\n",
       "      <th>reference</th>\n",
       "      <th>icsd_id</th>\n",
       "      <th>composition</th>\n",
       "      <th>comments</th>\n",
       "      <th>bandgap type</th>\n",
       "      <th>exp method</th>\n",
       "      <th>bandgap value (eV)</th>\n",
       "      <th>space group</th>\n",
       "      <th>temp (K)</th>\n",
       "    </tr>\n",
       "  </thead>\n",
       "  <tbody>\n",
       "    <tr>\n",
       "      <th>0</th>\n",
       "      <td>41</td>\n",
       "      <td>MPDS-S1531436</td>\n",
       "      <td>Ge0.9Si0.08C0.02</td>\n",
       "      <td>MPDS database</td>\n",
       "      <td></td>\n",
       "      <td>O</td>\n",
       "      <td>1.05</td>\n",
       "      <td>Fd-3m</td>\n",
       "      <td></td>\n",
       "    </tr>\n",
       "    <tr>\n",
       "      <th>1</th>\n",
       "      <td>1</td>\n",
       "      <td>238499</td>\n",
       "      <td>CsSc(SeO3)2</td>\n",
       "      <td>UV-vis diffuse reflectance spectroscopy</td>\n",
       "      <td></td>\n",
       "      <td>O</td>\n",
       "      <td>5.2</td>\n",
       "      <td>Pnma</td>\n",
       "      <td>300</td>\n",
       "    </tr>\n",
       "    <tr>\n",
       "      <th>2</th>\n",
       "      <td>1</td>\n",
       "      <td>416461</td>\n",
       "      <td>EuLiH3</td>\n",
       "      <td>Optical</td>\n",
       "      <td></td>\n",
       "      <td>O</td>\n",
       "      <td>1.5</td>\n",
       "      <td>Pm-3m</td>\n",
       "      <td></td>\n",
       "    </tr>\n",
       "    <tr>\n",
       "      <th>3</th>\n",
       "      <td>1</td>\n",
       "      <td>262893</td>\n",
       "      <td>Ba2InErSe5</td>\n",
       "      <td>UV-vis-NIR diffuse reflectance spectroscopy</td>\n",
       "      <td></td>\n",
       "      <td>O</td>\n",
       "      <td>2.29</td>\n",
       "      <td>Cmc2_1</td>\n",
       "      <td></td>\n",
       "    </tr>\n",
       "    <tr>\n",
       "      <th>4</th>\n",
       "      <td>1</td>\n",
       "      <td>50460</td>\n",
       "      <td>Cs2AgVS4</td>\n",
       "      <td>Optical</td>\n",
       "      <td></td>\n",
       "      <td>O</td>\n",
       "      <td>1.77</td>\n",
       "      <td>Fddd</td>\n",
       "      <td></td>\n",
       "    </tr>\n",
       "  </tbody>\n",
       "</table>\n",
       "</div>"
      ],
      "text/plain": [
       "  reference        icsd_id       composition  \\\n",
       "0        41  MPDS-S1531436  Ge0.9Si0.08C0.02   \n",
       "1         1         238499       CsSc(SeO3)2   \n",
       "2         1         416461            EuLiH3   \n",
       "3         1         262893        Ba2InErSe5   \n",
       "4         1          50460          Cs2AgVS4   \n",
       "\n",
       "                                       comments bandgap type exp method  \\\n",
       "0                                 MPDS database                       O   \n",
       "1      UV-vis diffuse reflectance spectroscopy                        O   \n",
       "2                                      Optical                        O   \n",
       "3  UV-vis-NIR diffuse reflectance spectroscopy                        O   \n",
       "4                                      Optical                        O   \n",
       "\n",
       "  bandgap value (eV) space group temp (K)  \n",
       "0               1.05       Fd-3m           \n",
       "1               5.2         Pnma      300  \n",
       "2               1.5        Pm-3m           \n",
       "3              2.29       Cmc2_1           \n",
       "4              1.77         Fddd           "
      ]
     },
     "execution_count": 5,
     "metadata": {},
     "output_type": "execute_result"
    }
   ],
   "source": [
    "exp_data.drop(columns=['structure'], inplace=True)  # Inplace alters the variable. Pandas returns a new copy by default, leaving the original intact\n",
    "exp_data.head()"
   ]
  },
  {
   "cell_type": "markdown",
   "id": "cf9d9fc7-3f08-4937-ac2a-ad8ff72c453c",
   "metadata": {},
   "source": [
    "## Cleaning the data\n",
    "The dataset is a little messy. Some of the columns have lists for bandgap values rather than single values and those single values are strings and not floats, which complicate analysis but yield an teaching moment for the benefits of Pandas.\n",
    "\n",
    "Let's show how to remove them and process the data into useful values"
   ]
  },
  {
   "cell_type": "code",
   "execution_count": 6,
   "id": "06f47871-d7e6-4fd6-a3de-1646548b7de5",
   "metadata": {
    "tags": []
   },
   "outputs": [
    {
     "name": "stdout",
     "output_type": "stream",
     "text": [
      "'>=' not supported between instances of 'str' and 'list'\n"
     ]
    }
   ],
   "source": [
    "try:\n",
    "    exp_data['bandgap value (eV)'].max()\n",
    "except TypeError as e:\n",
    "    print(e)"
   ]
  },
  {
   "cell_type": "markdown",
   "id": "e24efdf9-54cf-4f59-a937-d10af748dba2",
   "metadata": {},
   "source": [
    "Pandas has a [built-in function for converting strings to numbers](https://pandas.pydata.org/docs/reference/api/pandas.to_numeric.html)"
   ]
  },
  {
   "cell_type": "code",
   "execution_count": 7,
   "id": "e1c237b7-5a3a-4f94-9ea6-9a2f6765096e",
   "metadata": {
    "tags": []
   },
   "outputs": [
    {
     "data": {
      "text/plain": [
       "0       1.05\n",
       "1       5.20\n",
       "2       1.50\n",
       "3       2.29\n",
       "4       1.77\n",
       "        ... \n",
       "2803    1.48\n",
       "2804    0.47\n",
       "2805     NaN\n",
       "2806    4.20\n",
       "2807    3.88\n",
       "Name: bandgap value (eV), Length: 2808, dtype: float64"
      ]
     },
     "execution_count": 7,
     "metadata": {},
     "output_type": "execute_result"
    }
   ],
   "source": [
    "pd.to_numeric(exp_data['bandgap value (eV)'], errors='coerce')"
   ]
  },
  {
   "cell_type": "markdown",
   "id": "d92a7166-ed8f-4c65-a8ed-cec246c74ab2",
   "metadata": {},
   "source": [
    "It returns a list of floats, which is exactly what we need. So, let's store that value as the new column because we don't need the old one"
   ]
  },
  {
   "cell_type": "code",
   "execution_count": 8,
   "id": "734ab43d-ff5d-40d5-a9eb-050de12fd68c",
   "metadata": {
    "tags": []
   },
   "outputs": [],
   "source": [
    "exp_data['bandgap value (eV)'] = pd.to_numeric(exp_data['bandgap value (eV)'], errors='coerce')"
   ]
  },
  {
   "cell_type": "markdown",
   "id": "99444f18-d62d-4ab4-9890-0e1284c4f50c",
   "metadata": {},
   "source": [
    "You may have noticed some of th evalues are not numbers (`NaN`s). We can use Pandas's selection tools for removing them.\n",
    "\n",
    "One route is to supply a list of booleans."
   ]
  },
  {
   "cell_type": "code",
   "execution_count": 9,
   "id": "4212af2a-662e-4fc1-b82d-8a052c29cc6c",
   "metadata": {
    "tags": []
   },
   "outputs": [
    {
     "data": {
      "text/plain": [
       "0       False\n",
       "1       False\n",
       "2       False\n",
       "3       False\n",
       "4       False\n",
       "        ...  \n",
       "2803    False\n",
       "2804    False\n",
       "2805     True\n",
       "2806    False\n",
       "2807    False\n",
       "Name: bandgap value (eV), Length: 2808, dtype: bool"
      ]
     },
     "execution_count": 9,
     "metadata": {},
     "output_type": "execute_result"
    }
   ],
   "source": [
    "exp_data['bandgap value (eV)'].isnull()"
   ]
  },
  {
   "cell_type": "code",
   "execution_count": 10,
   "id": "b97c8806-f130-4b3f-ad49-e5b6f105c728",
   "metadata": {
    "tags": []
   },
   "outputs": [
    {
     "name": "stdout",
     "output_type": "stream",
     "text": [
      "Reduced to 2069 values\n"
     ]
    }
   ],
   "source": [
    "exp_data = exp_data[~exp_data['bandgap value (eV)'].isnull()]\n",
    "print(f'Reduced to {len(exp_data)} values')"
   ]
  },
  {
   "cell_type": "markdown",
   "id": "cd44d511-6a2c-47f4-a287-01a86b6f7ecd",
   "metadata": {},
   "source": [
    "You can also query. For example, to get the only the bandgaps which we know to be direct."
   ]
  },
  {
   "cell_type": "code",
   "execution_count": 11,
   "id": "082f0afe-896b-425c-addc-17fe784f4cf1",
   "metadata": {
    "tags": []
   },
   "outputs": [
    {
     "data": {
      "text/html": [
       "<div>\n",
       "<style scoped>\n",
       "    .dataframe tbody tr th:only-of-type {\n",
       "        vertical-align: middle;\n",
       "    }\n",
       "\n",
       "    .dataframe tbody tr th {\n",
       "        vertical-align: top;\n",
       "    }\n",
       "\n",
       "    .dataframe thead th {\n",
       "        text-align: right;\n",
       "    }\n",
       "</style>\n",
       "<table border=\"1\" class=\"dataframe\">\n",
       "  <thead>\n",
       "    <tr style=\"text-align: right;\">\n",
       "      <th></th>\n",
       "      <th>reference</th>\n",
       "      <th>icsd_id</th>\n",
       "      <th>composition</th>\n",
       "      <th>comments</th>\n",
       "      <th>bandgap type</th>\n",
       "      <th>exp method</th>\n",
       "      <th>bandgap value (eV)</th>\n",
       "      <th>space group</th>\n",
       "      <th>temp (K)</th>\n",
       "    </tr>\n",
       "  </thead>\n",
       "  <tbody>\n",
       "    <tr>\n",
       "      <th>6</th>\n",
       "      <td>3</td>\n",
       "      <td>172174</td>\n",
       "      <td>Cu2O</td>\n",
       "      <td>Semiconductor Data Handbook</td>\n",
       "      <td>D</td>\n",
       "      <td>O</td>\n",
       "      <td>2.17</td>\n",
       "      <td>Pn-3mZ</td>\n",
       "      <td>0</td>\n",
       "    </tr>\n",
       "    <tr>\n",
       "      <th>37</th>\n",
       "      <td>3</td>\n",
       "      <td>165226</td>\n",
       "      <td>Bi2Se3</td>\n",
       "      <td>Semiconductor Data Handbook</td>\n",
       "      <td>D</td>\n",
       "      <td>O</td>\n",
       "      <td>0.16</td>\n",
       "      <td>R-3mH</td>\n",
       "      <td>77</td>\n",
       "    </tr>\n",
       "    <tr>\n",
       "      <th>53</th>\n",
       "      <td>2</td>\n",
       "      <td>676090</td>\n",
       "      <td>ZnSe</td>\n",
       "      <td>Atomwork</td>\n",
       "      <td>D</td>\n",
       "      <td>O</td>\n",
       "      <td>2.66</td>\n",
       "      <td>F-43m</td>\n",
       "      <td></td>\n",
       "    </tr>\n",
       "    <tr>\n",
       "      <th>56</th>\n",
       "      <td>2</td>\n",
       "      <td>676090</td>\n",
       "      <td>ZnSe</td>\n",
       "      <td>Atomwork</td>\n",
       "      <td>D</td>\n",
       "      <td>O</td>\n",
       "      <td>2.70</td>\n",
       "      <td>F-43m</td>\n",
       "      <td>280</td>\n",
       "    </tr>\n",
       "    <tr>\n",
       "      <th>68</th>\n",
       "      <td>3</td>\n",
       "      <td>8249</td>\n",
       "      <td>GaTe</td>\n",
       "      <td>Semiconductor Data Handbook</td>\n",
       "      <td>D</td>\n",
       "      <td>E</td>\n",
       "      <td>1.70</td>\n",
       "      <td>B112/m</td>\n",
       "      <td>300</td>\n",
       "    </tr>\n",
       "    <tr>\n",
       "      <th>...</th>\n",
       "      <td>...</td>\n",
       "      <td>...</td>\n",
       "      <td>...</td>\n",
       "      <td>...</td>\n",
       "      <td>...</td>\n",
       "      <td>...</td>\n",
       "      <td>...</td>\n",
       "      <td>...</td>\n",
       "      <td>...</td>\n",
       "    </tr>\n",
       "    <tr>\n",
       "      <th>2719</th>\n",
       "      <td>2</td>\n",
       "      <td>675398</td>\n",
       "      <td>AlN</td>\n",
       "      <td>Atomwork</td>\n",
       "      <td>D</td>\n",
       "      <td>O</td>\n",
       "      <td>3.56</td>\n",
       "      <td>Fm-3m</td>\n",
       "      <td></td>\n",
       "    </tr>\n",
       "    <tr>\n",
       "      <th>2720</th>\n",
       "      <td>3</td>\n",
       "      <td>257810</td>\n",
       "      <td>AlN</td>\n",
       "      <td>Semiconductor Data Handbook</td>\n",
       "      <td>D</td>\n",
       "      <td>O</td>\n",
       "      <td>6.13</td>\n",
       "      <td>P63mc</td>\n",
       "      <td>300</td>\n",
       "    </tr>\n",
       "    <tr>\n",
       "      <th>2739</th>\n",
       "      <td>3</td>\n",
       "      <td>40018</td>\n",
       "      <td>Se</td>\n",
       "      <td>Semiconductor Data Handbook</td>\n",
       "      <td>D</td>\n",
       "      <td>O</td>\n",
       "      <td>1.95</td>\n",
       "      <td>P3121</td>\n",
       "      <td>300</td>\n",
       "    </tr>\n",
       "    <tr>\n",
       "      <th>2756</th>\n",
       "      <td>3</td>\n",
       "      <td>86361</td>\n",
       "      <td>GeAs</td>\n",
       "      <td>Semiconductor Data Handbook</td>\n",
       "      <td>D</td>\n",
       "      <td>O</td>\n",
       "      <td>1.01</td>\n",
       "      <td>C12/m1</td>\n",
       "      <td>300</td>\n",
       "    </tr>\n",
       "    <tr>\n",
       "      <th>2759</th>\n",
       "      <td>2</td>\n",
       "      <td>674422</td>\n",
       "      <td>BeO</td>\n",
       "      <td>Atomwork</td>\n",
       "      <td>D</td>\n",
       "      <td>O</td>\n",
       "      <td>11.20</td>\n",
       "      <td>Fm-3m</td>\n",
       "      <td></td>\n",
       "    </tr>\n",
       "  </tbody>\n",
       "</table>\n",
       "<p>250 rows × 9 columns</p>\n",
       "</div>"
      ],
      "text/plain": [
       "     reference icsd_id composition                     comments bandgap type  \\\n",
       "6            3  172174        Cu2O  Semiconductor Data Handbook            D   \n",
       "37           3  165226      Bi2Se3  Semiconductor Data Handbook            D   \n",
       "53           2  676090        ZnSe                     Atomwork            D   \n",
       "56           2  676090        ZnSe                     Atomwork            D   \n",
       "68           3    8249        GaTe  Semiconductor Data Handbook            D   \n",
       "...        ...     ...         ...                          ...          ...   \n",
       "2719         2  675398         AlN                     Atomwork            D   \n",
       "2720         3  257810         AlN  Semiconductor Data Handbook            D   \n",
       "2739         3   40018          Se  Semiconductor Data Handbook            D   \n",
       "2756         3   86361        GeAs  Semiconductor Data Handbook            D   \n",
       "2759         2  674422         BeO                     Atomwork            D   \n",
       "\n",
       "     exp method  bandgap value (eV) space group temp (K)  \n",
       "6             O                2.17      Pn-3mZ        0  \n",
       "37            O                0.16       R-3mH       77  \n",
       "53            O                2.66       F-43m           \n",
       "56            O                2.70       F-43m      280  \n",
       "68            E                1.70      B112/m      300  \n",
       "...         ...                 ...         ...      ...  \n",
       "2719          O                3.56       Fm-3m           \n",
       "2720          O                6.13       P63mc      300  \n",
       "2739          O                1.95       P3121      300  \n",
       "2756          O                1.01      C12/m1      300  \n",
       "2759          O               11.20       Fm-3m           \n",
       "\n",
       "[250 rows x 9 columns]"
      ]
     },
     "execution_count": 11,
     "metadata": {},
     "output_type": "execute_result"
    }
   ],
   "source": [
    "exp_data.query('`bandgap type`==\"D\"')  # `` are used because the column name has spaces"
   ]
  },
  {
   "cell_type": "markdown",
   "id": "8718ebaa-5d8c-4137-9410-adaba540703e",
   "metadata": {},
   "source": [
    "The full query syntax supports all kind of complex expressions"
   ]
  },
  {
   "cell_type": "markdown",
   "id": "2da91db2-f2f3-46b1-aeeb-d4c3e8b27dc7",
   "metadata": {},
   "source": [
    "## Aggregating\n",
    "Many common data analysis require running the same class of analysis on different subsets of the data, \"aggregation\" operations are key for this. \n",
    "\n",
    "There are many [aggregation operations in Pandas](https://pandas.pydata.org/docs/getting_started/intro_tutorials/06_calculate_statistics.html). Simple ones like getting descriptive statistics"
   ]
  },
  {
   "cell_type": "code",
   "execution_count": 12,
   "id": "5f35ee74-5c48-41bf-b88e-400f56cfd1ea",
   "metadata": {
    "tags": []
   },
   "outputs": [
    {
     "data": {
      "text/plain": [
       "2.37224770420493"
      ]
     },
     "execution_count": 12,
     "metadata": {},
     "output_type": "execute_result"
    }
   ],
   "source": [
    "exp_data['bandgap value (eV)'].mean()"
   ]
  },
  {
   "cell_type": "code",
   "execution_count": 13,
   "id": "fa1092db-55ab-4ce2-bf19-0a1d8a3027cb",
   "metadata": {},
   "outputs": [
    {
     "data": {
      "text/plain": [
       "mean        2.372248\n",
       "count    2069.000000\n",
       "sem         0.042796\n",
       "std         1.946634\n",
       "Name: bandgap value (eV), dtype: float64"
      ]
     },
     "execution_count": 13,
     "metadata": {},
     "output_type": "execute_result"
    }
   ],
   "source": [
    "exp_data['bandgap value (eV)'].agg(['mean', 'count', 'sem', 'std'])"
   ]
  },
  {
   "cell_type": "code",
   "execution_count": 14,
   "id": "857505da-bb94-4f8b-8347-b8c8d4ef4d30",
   "metadata": {
    "tags": []
   },
   "outputs": [
    {
     "data": {
      "text/plain": [
       "count    2069.000000\n",
       "mean        2.372248\n",
       "std         1.946634\n",
       "min         0.000000\n",
       "25%         1.100000\n",
       "50%         2.000000\n",
       "75%         3.000000\n",
       "max        15.114000\n",
       "Name: bandgap value (eV), dtype: float64"
      ]
     },
     "execution_count": 14,
     "metadata": {},
     "output_type": "execute_result"
    }
   ],
   "source": [
    "exp_data['bandgap value (eV)'].describe()"
   ]
  },
  {
   "cell_type": "markdown",
   "id": "86eb6416-2fe3-4a36-a28c-66cf05fe5379",
   "metadata": {},
   "source": [
    "Or complicated ones like counting numbers of occurances"
   ]
  },
  {
   "cell_type": "code",
   "execution_count": 15,
   "id": "022e96c2-2df8-4e81-9414-49d9571bceb1",
   "metadata": {
    "tags": []
   },
   "outputs": [
    {
     "data": {
      "text/plain": [
       "InSe                     17\n",
       "SiC                      16\n",
       "GaAs                      9\n",
       "AlAs                      9\n",
       "GaSe                      9\n",
       "                         ..\n",
       "CuInS2                    1\n",
       "Tl0.5Pr0.075In0.425Te     1\n",
       "ZnIn2S4                   1\n",
       "BaSn2F5Br                 1\n",
       "Na3Sn2F6Cl                1\n",
       "Name: composition, Length: 1443, dtype: int64"
      ]
     },
     "execution_count": 15,
     "metadata": {},
     "output_type": "execute_result"
    }
   ],
   "source": [
    "exp_data['composition'].value_counts()"
   ]
  },
  {
   "cell_type": "markdown",
   "id": "c3e2c96c-a6c5-4d07-b040-2d6360db5293",
   "metadata": {},
   "source": [
    "They can also be performed on specific groups of data. Form groups by using the \"group by\" operation, "
   ]
  },
  {
   "cell_type": "code",
   "execution_count": 16,
   "id": "61789ecf-efbf-4d99-97b1-f9580711a9e5",
   "metadata": {
    "tags": []
   },
   "outputs": [
    {
     "data": {
      "text/html": [
       "<div>\n",
       "<style scoped>\n",
       "    .dataframe tbody tr th:only-of-type {\n",
       "        vertical-align: middle;\n",
       "    }\n",
       "\n",
       "    .dataframe tbody tr th {\n",
       "        vertical-align: top;\n",
       "    }\n",
       "\n",
       "    .dataframe thead th {\n",
       "        text-align: right;\n",
       "    }\n",
       "</style>\n",
       "<table border=\"1\" class=\"dataframe\">\n",
       "  <thead>\n",
       "    <tr style=\"text-align: right;\">\n",
       "      <th></th>\n",
       "      <th>mean</th>\n",
       "      <th>max</th>\n",
       "      <th>std</th>\n",
       "      <th>sem</th>\n",
       "    </tr>\n",
       "    <tr>\n",
       "      <th>composition</th>\n",
       "      <th></th>\n",
       "      <th></th>\n",
       "      <th></th>\n",
       "      <th></th>\n",
       "    </tr>\n",
       "  </thead>\n",
       "  <tbody>\n",
       "    <tr>\n",
       "      <th>Ag0.25Zn0.5Ga0.25Se</th>\n",
       "      <td>1.63000</td>\n",
       "      <td>1.63</td>\n",
       "      <td>NaN</td>\n",
       "      <td>NaN</td>\n",
       "    </tr>\n",
       "    <tr>\n",
       "      <th>Ag0.5Cu0.5InSe2</th>\n",
       "      <td>1.10000</td>\n",
       "      <td>1.10</td>\n",
       "      <td>NaN</td>\n",
       "      <td>NaN</td>\n",
       "    </tr>\n",
       "    <tr>\n",
       "      <th>Ag2CdGeS4</th>\n",
       "      <td>2.32000</td>\n",
       "      <td>2.32</td>\n",
       "      <td>NaN</td>\n",
       "      <td>NaN</td>\n",
       "    </tr>\n",
       "    <tr>\n",
       "      <th>Ag2O</th>\n",
       "      <td>1.44275</td>\n",
       "      <td>1.60</td>\n",
       "      <td>0.184328</td>\n",
       "      <td>0.092164</td>\n",
       "    </tr>\n",
       "    <tr>\n",
       "      <th>Ag2PdO2</th>\n",
       "      <td>0.18000</td>\n",
       "      <td>0.18</td>\n",
       "      <td>NaN</td>\n",
       "      <td>NaN</td>\n",
       "    </tr>\n",
       "    <tr>\n",
       "      <th>...</th>\n",
       "      <td>...</td>\n",
       "      <td>...</td>\n",
       "      <td>...</td>\n",
       "      <td>...</td>\n",
       "    </tr>\n",
       "    <tr>\n",
       "      <th>Zr3O</th>\n",
       "      <td>0.20000</td>\n",
       "      <td>0.20</td>\n",
       "      <td>NaN</td>\n",
       "      <td>NaN</td>\n",
       "    </tr>\n",
       "    <tr>\n",
       "      <th>ZrO2</th>\n",
       "      <td>2.50000</td>\n",
       "      <td>4.99</td>\n",
       "      <td>2.241740</td>\n",
       "      <td>1.120870</td>\n",
       "    </tr>\n",
       "    <tr>\n",
       "      <th>ZrS2</th>\n",
       "      <td>0.85000</td>\n",
       "      <td>0.85</td>\n",
       "      <td>NaN</td>\n",
       "      <td>NaN</td>\n",
       "    </tr>\n",
       "    <tr>\n",
       "      <th>ZrSe2</th>\n",
       "      <td>2.00000</td>\n",
       "      <td>2.00</td>\n",
       "      <td>NaN</td>\n",
       "      <td>NaN</td>\n",
       "    </tr>\n",
       "    <tr>\n",
       "      <th>ZrSe3</th>\n",
       "      <td>1.25000</td>\n",
       "      <td>1.25</td>\n",
       "      <td>NaN</td>\n",
       "      <td>NaN</td>\n",
       "    </tr>\n",
       "  </tbody>\n",
       "</table>\n",
       "<p>1443 rows × 4 columns</p>\n",
       "</div>"
      ],
      "text/plain": [
       "                        mean   max       std       sem\n",
       "composition                                           \n",
       "Ag0.25Zn0.5Ga0.25Se  1.63000  1.63       NaN       NaN\n",
       "Ag0.5Cu0.5InSe2      1.10000  1.10       NaN       NaN\n",
       "Ag2CdGeS4            2.32000  2.32       NaN       NaN\n",
       "Ag2O                 1.44275  1.60  0.184328  0.092164\n",
       "Ag2PdO2              0.18000  0.18       NaN       NaN\n",
       "...                      ...   ...       ...       ...\n",
       "Zr3O                 0.20000  0.20       NaN       NaN\n",
       "ZrO2                 2.50000  4.99  2.241740  1.120870\n",
       "ZrS2                 0.85000  0.85       NaN       NaN\n",
       "ZrSe2                2.00000  2.00       NaN       NaN\n",
       "ZrSe3                1.25000  1.25       NaN       NaN\n",
       "\n",
       "[1443 rows x 4 columns]"
      ]
     },
     "execution_count": 16,
     "metadata": {},
     "output_type": "execute_result"
    }
   ],
   "source": [
    "exp_data.groupby('composition')['bandgap value (eV)'].agg(['mean', 'max', 'std', 'sem'])"
   ]
  },
  {
   "cell_type": "markdown",
   "id": "7fefe9c5-a6fe-49ef-aca8-a5a448df3983",
   "metadata": {},
   "source": [
    "Grouping can even take multiple tags and be chained together with query operations\n",
    "\n",
    "> Chaining is why `inplace=False` is a useful default in Pandas"
   ]
  },
  {
   "cell_type": "code",
   "execution_count": 17,
   "id": "1e511b48-47ae-439c-8c79-8a754ac4092d",
   "metadata": {
    "tags": []
   },
   "outputs": [
    {
     "data": {
      "text/plain": [
       "composition      space group\n",
       "Ag0.5Cu0.5InSe2  I-42d          1.100000\n",
       "Ag2CdGeS4        Pna2_1         2.320000\n",
       "Ag2O             Imma           1.523667\n",
       "Ag2PdO2          Immm           0.180000\n",
       "Ag2S             Fm-3m          0.870000\n",
       "                                  ...   \n",
       "ZrO2             Fm-3m          2.066667\n",
       "                 P121/c1        3.800000\n",
       "ZrS2             Fm-3m          0.850000\n",
       "ZrSe2            R-3m           2.000000\n",
       "ZrSe3            R-3m           1.250000\n",
       "Name: bandgap value (eV), Length: 1481, dtype: float64"
      ]
     },
     "execution_count": 17,
     "metadata": {},
     "output_type": "execute_result"
    }
   ],
   "source": [
    "exp_data.query('`bandgap type` != \"D\"').groupby(['composition', 'space group'])['bandgap value (eV)'].mean()"
   ]
  },
  {
   "cell_type": "markdown",
   "id": "9445586c-0d23-4c4e-84e9-18539d85db49",
   "metadata": {},
   "source": [
    "Let's end by making a single dataset with the average bandgap for each composition and spacegroup"
   ]
  },
  {
   "cell_type": "code",
   "execution_count": 18,
   "id": "470a0da8-3432-4eb0-889c-d16f03c914ce",
   "metadata": {
    "tags": []
   },
   "outputs": [
    {
     "data": {
      "text/html": [
       "<div>\n",
       "<style scoped>\n",
       "    .dataframe tbody tr th:only-of-type {\n",
       "        vertical-align: middle;\n",
       "    }\n",
       "\n",
       "    .dataframe tbody tr th {\n",
       "        vertical-align: top;\n",
       "    }\n",
       "\n",
       "    .dataframe thead th {\n",
       "        text-align: right;\n",
       "    }\n",
       "</style>\n",
       "<table border=\"1\" class=\"dataframe\">\n",
       "  <thead>\n",
       "    <tr style=\"text-align: right;\">\n",
       "      <th></th>\n",
       "      <th>composition</th>\n",
       "      <th>space group</th>\n",
       "      <th>bandgap value (eV)</th>\n",
       "    </tr>\n",
       "  </thead>\n",
       "  <tbody>\n",
       "    <tr>\n",
       "      <th>0</th>\n",
       "      <td>Ag0.25Zn0.5Ga0.25Se</td>\n",
       "      <td>F-43m</td>\n",
       "      <td>1.630000</td>\n",
       "    </tr>\n",
       "    <tr>\n",
       "      <th>1</th>\n",
       "      <td>Ag0.5Cu0.5InSe2</td>\n",
       "      <td>I-42d</td>\n",
       "      <td>1.100000</td>\n",
       "    </tr>\n",
       "    <tr>\n",
       "      <th>2</th>\n",
       "      <td>Ag2CdGeS4</td>\n",
       "      <td>Pna2_1</td>\n",
       "      <td>2.320000</td>\n",
       "    </tr>\n",
       "    <tr>\n",
       "      <th>3</th>\n",
       "      <td>Ag2O</td>\n",
       "      <td>Imma</td>\n",
       "      <td>1.523667</td>\n",
       "    </tr>\n",
       "    <tr>\n",
       "      <th>4</th>\n",
       "      <td>Ag2O</td>\n",
       "      <td>Pn-3mZ</td>\n",
       "      <td>1.200000</td>\n",
       "    </tr>\n",
       "    <tr>\n",
       "      <th>...</th>\n",
       "      <td>...</td>\n",
       "      <td>...</td>\n",
       "      <td>...</td>\n",
       "    </tr>\n",
       "    <tr>\n",
       "      <th>1564</th>\n",
       "      <td>ZrO2</td>\n",
       "      <td>Fm-3m</td>\n",
       "      <td>2.066667</td>\n",
       "    </tr>\n",
       "    <tr>\n",
       "      <th>1565</th>\n",
       "      <td>ZrO2</td>\n",
       "      <td>P121/c1</td>\n",
       "      <td>3.800000</td>\n",
       "    </tr>\n",
       "    <tr>\n",
       "      <th>1566</th>\n",
       "      <td>ZrS2</td>\n",
       "      <td>Fm-3m</td>\n",
       "      <td>0.850000</td>\n",
       "    </tr>\n",
       "    <tr>\n",
       "      <th>1567</th>\n",
       "      <td>ZrSe2</td>\n",
       "      <td>R-3m</td>\n",
       "      <td>2.000000</td>\n",
       "    </tr>\n",
       "    <tr>\n",
       "      <th>1568</th>\n",
       "      <td>ZrSe3</td>\n",
       "      <td>R-3m</td>\n",
       "      <td>1.250000</td>\n",
       "    </tr>\n",
       "  </tbody>\n",
       "</table>\n",
       "<p>1569 rows × 3 columns</p>\n",
       "</div>"
      ],
      "text/plain": [
       "              composition space group  bandgap value (eV)\n",
       "0     Ag0.25Zn0.5Ga0.25Se       F-43m            1.630000\n",
       "1         Ag0.5Cu0.5InSe2       I-42d            1.100000\n",
       "2               Ag2CdGeS4      Pna2_1            2.320000\n",
       "3                    Ag2O        Imma            1.523667\n",
       "4                    Ag2O      Pn-3mZ            1.200000\n",
       "...                   ...         ...                 ...\n",
       "1564                 ZrO2       Fm-3m            2.066667\n",
       "1565                 ZrO2     P121/c1            3.800000\n",
       "1566                 ZrS2       Fm-3m            0.850000\n",
       "1567                ZrSe2        R-3m            2.000000\n",
       "1568                ZrSe3        R-3m            1.250000\n",
       "\n",
       "[1569 rows x 3 columns]"
      ]
     },
     "execution_count": 18,
     "metadata": {},
     "output_type": "execute_result"
    }
   ],
   "source": [
    "exp_bandgaps = exp_data.groupby(['composition', 'space group'])['bandgap value (eV)'].mean().reset_index()  # reset turns the single-column series into a dataframe\n",
    "exp_bandgaps"
   ]
  },
  {
   "cell_type": "markdown",
   "id": "5807b986-daa9-4101-a55d-23d5de9b5423",
   "metadata": {},
   "source": [
    "We'll give you some exercises later to help you see the power of aggregation operations."
   ]
  },
  {
   "cell_type": "markdown",
   "id": "d45159d7-c4df-45b7-bea7-4261190768f4",
   "metadata": {},
   "source": [
    "## Joining\n",
    "Data analyses often require _joining_ two different sources of data together. We'll showcase this by analyzing the differences between experiment and computation."
   ]
  },
  {
   "cell_type": "code",
   "execution_count": 19,
   "id": "b4359119-67db-4c8d-a439-0a7123e9a46f",
   "metadata": {
    "tags": []
   },
   "outputs": [
    {
     "data": {
      "text/html": [
       "<div>\n",
       "<style scoped>\n",
       "    .dataframe tbody tr th:only-of-type {\n",
       "        vertical-align: middle;\n",
       "    }\n",
       "\n",
       "    .dataframe tbody tr th {\n",
       "        vertical-align: top;\n",
       "    }\n",
       "\n",
       "    .dataframe thead th {\n",
       "        text-align: right;\n",
       "    }\n",
       "</style>\n",
       "<table border=\"1\" class=\"dataframe\">\n",
       "  <thead>\n",
       "    <tr style=\"text-align: right;\">\n",
       "      <th></th>\n",
       "      <th>reference</th>\n",
       "      <th>composition</th>\n",
       "      <th>comments</th>\n",
       "      <th>bandgap type</th>\n",
       "      <th>comp method</th>\n",
       "      <th>bandgap value (eV)</th>\n",
       "      <th>space group</th>\n",
       "    </tr>\n",
       "  </thead>\n",
       "  <tbody>\n",
       "    <tr>\n",
       "      <th>0</th>\n",
       "      <td>134</td>\n",
       "      <td>Al2O3</td>\n",
       "      <td>PRB 270</td>\n",
       "      <td>I</td>\n",
       "      <td>GW</td>\n",
       "      <td>9.30</td>\n",
       "      <td>R-3c</td>\n",
       "    </tr>\n",
       "    <tr>\n",
       "      <th>1</th>\n",
       "      <td>134</td>\n",
       "      <td>Al2ZnS4</td>\n",
       "      <td>PRB 270</td>\n",
       "      <td>I</td>\n",
       "      <td>GW</td>\n",
       "      <td>3.99</td>\n",
       "      <td>Fd-3m</td>\n",
       "    </tr>\n",
       "    <tr>\n",
       "      <th>2</th>\n",
       "      <td>134</td>\n",
       "      <td>Al2ZnSe4</td>\n",
       "      <td>PRB 270</td>\n",
       "      <td>I</td>\n",
       "      <td>GW</td>\n",
       "      <td>3.77</td>\n",
       "      <td>I-4</td>\n",
       "    </tr>\n",
       "    <tr>\n",
       "      <th>3</th>\n",
       "      <td>134</td>\n",
       "      <td>AlAs</td>\n",
       "      <td>PRB 270</td>\n",
       "      <td>I</td>\n",
       "      <td>GW</td>\n",
       "      <td>2.59</td>\n",
       "      <td>P6_3mc</td>\n",
       "    </tr>\n",
       "    <tr>\n",
       "      <th>4</th>\n",
       "      <td>134</td>\n",
       "      <td>AlAs</td>\n",
       "      <td>PRB 270</td>\n",
       "      <td>I</td>\n",
       "      <td>GW</td>\n",
       "      <td>2.34</td>\n",
       "      <td>F-43m</td>\n",
       "    </tr>\n",
       "  </tbody>\n",
       "</table>\n",
       "</div>"
      ],
      "text/plain": [
       "  reference composition comments bandgap type comp method  bandgap value (eV)  \\\n",
       "0       134       Al2O3  PRB 270            I          GW                9.30   \n",
       "1       134     Al2ZnS4  PRB 270            I          GW                3.99   \n",
       "2       134    Al2ZnSe4  PRB 270            I          GW                3.77   \n",
       "3       134        AlAs  PRB 270            I          GW                2.59   \n",
       "4       134        AlAs  PRB 270            I          GW                2.34   \n",
       "\n",
       "  space group  \n",
       "0        R-3c  \n",
       "1       Fd-3m  \n",
       "2         I-4  \n",
       "3      P6_3mc  \n",
       "4       F-43m  "
      ]
     },
     "execution_count": 19,
     "metadata": {},
     "output_type": "execute_result"
    }
   ],
   "source": [
    "dft_data = pd.read_json(dft_url, lines=True).drop(columns=['structure', 'icsd_id'])\n",
    "dft_data.head()"
   ]
  },
  {
   "cell_type": "code",
   "execution_count": 20,
   "id": "afb539bd-83aa-4766-91e3-622de3969fd3",
   "metadata": {
    "tags": []
   },
   "outputs": [],
   "source": [
    "dft_data['comp method'] = dft_data['comp method'].str.upper()"
   ]
  },
  {
   "cell_type": "markdown",
   "id": "68fc7040-7683-4770-a06a-4b9d74f715ab",
   "metadata": {},
   "source": [
    "There are [many types of join operations](https://www.devart.com/dbforge/sql/sqlcomplete/sql-join-statements.html). [Prepare for Venn Diagrams](https://www.devart.com/dbforge/sql/sqlcomplete/sql-join-statements.html) if you want to learn more about them.\n",
    "\n",
    "A common type are \"inner joins\" where you get the rows from different datasets with values that match"
   ]
  },
  {
   "cell_type": "code",
   "execution_count": 21,
   "id": "5f527928-42f9-4f07-adbf-eaa4a6e1f741",
   "metadata": {
    "tags": []
   },
   "outputs": [
    {
     "data": {
      "text/html": [
       "<div>\n",
       "<style scoped>\n",
       "    .dataframe tbody tr th:only-of-type {\n",
       "        vertical-align: middle;\n",
       "    }\n",
       "\n",
       "    .dataframe tbody tr th {\n",
       "        vertical-align: top;\n",
       "    }\n",
       "\n",
       "    .dataframe thead th {\n",
       "        text-align: right;\n",
       "    }\n",
       "</style>\n",
       "<table border=\"1\" class=\"dataframe\">\n",
       "  <thead>\n",
       "    <tr style=\"text-align: right;\">\n",
       "      <th></th>\n",
       "      <th>reference</th>\n",
       "      <th>composition</th>\n",
       "      <th>comments</th>\n",
       "      <th>bandgap type</th>\n",
       "      <th>comp method</th>\n",
       "      <th>bandgap value (eV)_dft</th>\n",
       "      <th>space group</th>\n",
       "      <th>bandgap value (eV)_exp</th>\n",
       "    </tr>\n",
       "  </thead>\n",
       "  <tbody>\n",
       "    <tr>\n",
       "      <th>0</th>\n",
       "      <td>134</td>\n",
       "      <td>AlAs</td>\n",
       "      <td>PRB 270</td>\n",
       "      <td>I</td>\n",
       "      <td>GW</td>\n",
       "      <td>2.340000</td>\n",
       "      <td>F-43m</td>\n",
       "      <td>2.594222</td>\n",
       "    </tr>\n",
       "    <tr>\n",
       "      <th>1</th>\n",
       "      <td>134</td>\n",
       "      <td>AlAs</td>\n",
       "      <td>PRB 270</td>\n",
       "      <td>I</td>\n",
       "      <td>MBJ</td>\n",
       "      <td>2.180000</td>\n",
       "      <td>F-43m</td>\n",
       "      <td>2.594222</td>\n",
       "    </tr>\n",
       "    <tr>\n",
       "      <th>2</th>\n",
       "      <td>130</td>\n",
       "      <td>AlAs</td>\n",
       "      <td>CMR mp_gllbsc</td>\n",
       "      <td>D</td>\n",
       "      <td>GLLB_SC</td>\n",
       "      <td>3.151458</td>\n",
       "      <td>F-43m</td>\n",
       "      <td>2.594222</td>\n",
       "    </tr>\n",
       "    <tr>\n",
       "      <th>3</th>\n",
       "      <td>130</td>\n",
       "      <td>AlAs</td>\n",
       "      <td>CMR mp_gllbsc</td>\n",
       "      <td>I</td>\n",
       "      <td>GLLB_SC</td>\n",
       "      <td>2.653349</td>\n",
       "      <td>F-43m</td>\n",
       "      <td>2.594222</td>\n",
       "    </tr>\n",
       "    <tr>\n",
       "      <th>4</th>\n",
       "      <td>jarvis</td>\n",
       "      <td>AlAs</td>\n",
       "      <td>jarvis mbj bandgap</td>\n",
       "      <td></td>\n",
       "      <td>MBJ</td>\n",
       "      <td>2.276300</td>\n",
       "      <td>F-43m</td>\n",
       "      <td>2.594222</td>\n",
       "    </tr>\n",
       "  </tbody>\n",
       "</table>\n",
       "</div>"
      ],
      "text/plain": [
       "  reference composition            comments bandgap type comp method  \\\n",
       "0       134        AlAs             PRB 270            I          GW   \n",
       "1       134        AlAs             PRB 270            I         MBJ   \n",
       "2       130        AlAs       CMR mp_gllbsc            D     GLLB_SC   \n",
       "3       130        AlAs       CMR mp_gllbsc            I     GLLB_SC   \n",
       "4    jarvis        AlAs  jarvis mbj bandgap                      MBJ   \n",
       "\n",
       "   bandgap value (eV)_dft space group  bandgap value (eV)_exp  \n",
       "0                2.340000       F-43m                2.594222  \n",
       "1                2.180000       F-43m                2.594222  \n",
       "2                3.151458       F-43m                2.594222  \n",
       "3                2.653349       F-43m                2.594222  \n",
       "4                2.276300       F-43m                2.594222  "
      ]
     },
     "execution_count": 21,
     "metadata": {},
     "output_type": "execute_result"
    }
   ],
   "source": [
    "joined_data = dft_data.merge(exp_bandgaps, on=['composition', 'space group'], suffixes=('_dft', '_exp'))\n",
    "joined_data.head()"
   ]
  },
  {
   "cell_type": "markdown",
   "id": "a0ed5591-26b9-476f-8571-eb7eb860e3f8",
   "metadata": {},
   "source": [
    "Note how we know have band gap values for both experiment and each computational record"
   ]
  },
  {
   "cell_type": "code",
   "execution_count": 22,
   "id": "5a21cb41-9b07-4ebf-963e-ed416caaeb04",
   "metadata": {
    "tags": []
   },
   "outputs": [],
   "source": [
    "joined_data['error'] = joined_data['bandgap value (eV)_exp'] - joined_data['bandgap value (eV)_dft']"
   ]
  },
  {
   "cell_type": "code",
   "execution_count": 23,
   "id": "3ba5244b-bc9c-4362-9494-acf9b9e269e6",
   "metadata": {
    "tags": []
   },
   "outputs": [
    {
     "data": {
      "text/html": [
       "<div>\n",
       "<style scoped>\n",
       "    .dataframe tbody tr th:only-of-type {\n",
       "        vertical-align: middle;\n",
       "    }\n",
       "\n",
       "    .dataframe tbody tr th {\n",
       "        vertical-align: top;\n",
       "    }\n",
       "\n",
       "    .dataframe thead th {\n",
       "        text-align: right;\n",
       "    }\n",
       "</style>\n",
       "<table border=\"1\" class=\"dataframe\">\n",
       "  <thead>\n",
       "    <tr style=\"text-align: right;\">\n",
       "      <th></th>\n",
       "      <th>count</th>\n",
       "      <th>mean</th>\n",
       "      <th>std</th>\n",
       "      <th>min</th>\n",
       "      <th>25%</th>\n",
       "      <th>50%</th>\n",
       "      <th>75%</th>\n",
       "      <th>max</th>\n",
       "    </tr>\n",
       "    <tr>\n",
       "      <th>comp method</th>\n",
       "      <th></th>\n",
       "      <th></th>\n",
       "      <th></th>\n",
       "      <th></th>\n",
       "      <th></th>\n",
       "      <th></th>\n",
       "      <th></th>\n",
       "      <th></th>\n",
       "    </tr>\n",
       "  </thead>\n",
       "  <tbody>\n",
       "    <tr>\n",
       "      <th>GLLB_SC</th>\n",
       "      <td>221.0</td>\n",
       "      <td>-0.522718</td>\n",
       "      <td>1.218616</td>\n",
       "      <td>-4.007231</td>\n",
       "      <td>-1.100251</td>\n",
       "      <td>-0.480954</td>\n",
       "      <td>0.214478</td>\n",
       "      <td>2.520721</td>\n",
       "    </tr>\n",
       "    <tr>\n",
       "      <th>GW</th>\n",
       "      <td>50.0</td>\n",
       "      <td>-0.249235</td>\n",
       "      <td>1.265640</td>\n",
       "      <td>-3.500000</td>\n",
       "      <td>-0.555000</td>\n",
       "      <td>-0.113750</td>\n",
       "      <td>0.407500</td>\n",
       "      <td>2.580000</td>\n",
       "    </tr>\n",
       "    <tr>\n",
       "      <th>GWVD</th>\n",
       "      <td>5.0</td>\n",
       "      <td>-0.748400</td>\n",
       "      <td>2.009169</td>\n",
       "      <td>-4.029000</td>\n",
       "      <td>-0.904000</td>\n",
       "      <td>-0.175000</td>\n",
       "      <td>-0.000333</td>\n",
       "      <td>1.366333</td>\n",
       "    </tr>\n",
       "    <tr>\n",
       "      <th>MBJ</th>\n",
       "      <td>293.0</td>\n",
       "      <td>0.171344</td>\n",
       "      <td>1.089989</td>\n",
       "      <td>-5.483400</td>\n",
       "      <td>-0.187033</td>\n",
       "      <td>0.161050</td>\n",
       "      <td>0.757100</td>\n",
       "      <td>3.086000</td>\n",
       "    </tr>\n",
       "    <tr>\n",
       "      <th>OPTB88</th>\n",
       "      <td>412.0</td>\n",
       "      <td>1.120867</td>\n",
       "      <td>1.087031</td>\n",
       "      <td>-3.260800</td>\n",
       "      <td>0.340050</td>\n",
       "      <td>1.037950</td>\n",
       "      <td>1.642975</td>\n",
       "      <td>5.150000</td>\n",
       "    </tr>\n",
       "  </tbody>\n",
       "</table>\n",
       "</div>"
      ],
      "text/plain": [
       "             count      mean       std       min       25%       50%  \\\n",
       "comp method                                                            \n",
       "GLLB_SC      221.0 -0.522718  1.218616 -4.007231 -1.100251 -0.480954   \n",
       "GW            50.0 -0.249235  1.265640 -3.500000 -0.555000 -0.113750   \n",
       "GWVD           5.0 -0.748400  2.009169 -4.029000 -0.904000 -0.175000   \n",
       "MBJ          293.0  0.171344  1.089989 -5.483400 -0.187033  0.161050   \n",
       "OPTB88       412.0  1.120867  1.087031 -3.260800  0.340050  1.037950   \n",
       "\n",
       "                  75%       max  \n",
       "comp method                      \n",
       "GLLB_SC      0.214478  2.520721  \n",
       "GW           0.407500  2.580000  \n",
       "GWVD        -0.000333  1.366333  \n",
       "MBJ          0.757100  3.086000  \n",
       "OPTB88       1.642975  5.150000  "
      ]
     },
     "execution_count": 23,
     "metadata": {},
     "output_type": "execute_result"
    }
   ],
   "source": [
    "joined_data.groupby('comp method')['error'].describe()"
   ]
  },
  {
   "cell_type": "markdown",
   "id": "69c2f3e4-3e6a-440b-8f44-50f19fc8e948",
   "metadata": {},
   "source": [
    "Plotting to make a visual display. Pandas does have [some plotting helpers](https://pandas.pydata.org/docs/user_guide/visualization.html)"
   ]
  },
  {
   "cell_type": "code",
   "execution_count": 24,
   "id": "22100996-a2fa-4671-85dc-03eaead30c31",
   "metadata": {
    "tags": []
   },
   "outputs": [
    {
     "name": "stdout",
     "output_type": "stream",
     "text": [
      "Found 5 computational methods\n"
     ]
    }
   ],
   "source": [
    "num_methods = joined_data['comp method'].value_counts().size\n",
    "print(f'Found {num_methods} computational methods')"
   ]
  },
  {
   "cell_type": "code",
   "execution_count": 26,
   "id": "9dea3039-b785-4bf6-9cf1-8ef28d4bb96a",
   "metadata": {
    "tags": []
   },
   "outputs": [
    {
     "data": {
      "image/png": "[encoded data removed]",
      "text/plain": [
       "<Figure size 850x200 with 5 Axes>"
      ]
     },
     "metadata": {},
     "output_type": "display_data"
    }
   ],
   "source": [
    "fig, axs = plt.subplots(1, 5, figsize=(8.5, 2.), sharey=True, sharex=True)\n",
    "\n",
    "for ax, (method, group) in zip(axs, joined_data.groupby('comp method')):\n",
    "    ax.scatter(group['bandgap value (eV)_dft'], group['bandgap value (eV)_exp'], s=1)\n",
    "    ax.text(0.01, 0.99, method, transform=ax.transAxes, ha='left', va='top')\n",
    "    ax.set_xlabel(f'$E_g$, {method} (eV)')\n",
    "\n",
    "# Get the range\n",
    "max_eg = max(max(ax.get_xlim()) for ax in axs)\n",
    "ax.set_xlim(0, max_eg)\n",
    "ax.set_ylim(ax.get_xlim())\n",
    "\n",
    "# Make a y=x line\n",
    "for ax in axs:\n",
    "    ax.plot(ax.get_xlim(), ax.get_xlim(), 'k--', zorder=-1)\n",
    "axs[0].set_ylabel('$E_g$, Exp (eV)')\n",
    "    \n",
    "fig.tight_layout()"
   ]
  },
  {
   "cell_type": "markdown",
   "id": "afccb0c0-4456-4b88-a944-b162b52b6338",
   "metadata": {},
   "source": [
    "Pandas makes it easy to manipulate data."
   ]
  },
  {
   "cell_type": "markdown",
   "id": "151fca53-b734-4995-af91-eafaf46c3aac",
   "metadata": {},
   "source": [
    "## Exercises\n",
    "Here are a few questions which will test your ability to use Pandas. Try to do them in as few steps as possible."
   ]
  },
  {
   "cell_type": "markdown",
   "id": "72beec16-d3c3-43a9-8c22-5028edc98bd8",
   "metadata": {},
   "source": [
    "_Add a column to `exp_data` which is the temperature in Celcius_.\n",
    "<code hidden>exp_data['temp (C)'] = pd.to_numeric(exp_data['temp (K)'], errors='coerce') - 273.15</code>"
   ]
  },
  {
   "cell_type": "code",
   "execution_count": null,
   "id": "eb7e6993-6edb-4a04-a9bc-e2c055fbd939",
   "metadata": {
    "tags": []
   },
   "outputs": [],
   "source": []
  },
  {
   "cell_type": "markdown",
   "id": "3ffa422c-aafa-44dc-a57d-2a05629f9fb9",
   "metadata": {},
   "source": [
    "_Which composition, space group, and method have the largest error?_\n",
    "<code hidden>joined_data.loc[joined_data['error'].abs().idxmax(), ['composition', 'space group', 'comp method', 'error']]</code>"
   ]
  },
  {
   "cell_type": "code",
   "execution_count": null,
   "id": "01f94624-54ac-415f-ab99-97c7e921faad",
   "metadata": {
    "tags": []
   },
   "outputs": [],
   "source": []
  },
  {
   "cell_type": "markdown",
   "id": "a343af91-3347-4b80-aba2-9d890545f448",
   "metadata": {},
   "source": [
    "_How many compositions have experiment bandgaps at more than one temperature_?\n",
    "<code hidden>(exp_data.groupby('composition')['temp (K)'].value_counts() > 1).sum()</code>"
   ]
  },
  {
   "cell_type": "code",
   "execution_count": null,
   "id": "2261d962-a951-41fb-bf6b-0ff054187d2f",
   "metadata": {
    "tags": []
   },
   "outputs": [],
   "source": []
  },
  {
   "cell_type": "markdown",
   "id": "14990058-cfc6-49ec-a3b2-8e90b558c5bc",
   "metadata": {},
   "source": [
    "_What is the median error between each method and experiment?_\n",
    "<code hidden>joined_data.groupby('comp method')['error'].median()</code>"
   ]
  },
  {
   "cell_type": "code",
   "execution_count": null,
   "id": "9ccfcba8-5047-485e-8313-ffe213f4f3c9",
   "metadata": {
    "tags": []
   },
   "outputs": [],
   "source": []
  },
  {
   "cell_type": "markdown",
   "id": "48d41a05-d284-452b-b056-9c3553fb23f5",
   "metadata": {},
   "source": [
    "_What is the mean absolute error after subtracting off this median error_? Hint: I used [apply](https://pandas.pydata.org/docs/reference/api/pandas.core.groupby.DataFrameGroupBy.apply.html).\n",
    "<code hidden>joined_data.groupby('comp method').apply(lambda x: (x['error'] - x['error'].median()).abs().mean())</code>"
   ]
  },
  {
   "cell_type": "code",
   "execution_count": null,
   "id": "5c69396f-61ea-4856-80d1-5a1243ec2da7",
   "metadata": {},
   "outputs": [],
   "source": []
  },
  {
   "cell_type": "markdown",
   "id": "777d09b7-8cbb-4e8c-9e9a-a3a124855a5e",
   "metadata": {},
   "source": [
    "_Which are the compounds where 4 of 5 computational methods have been evaluated_?\n",
    "<code hidden>joined_data.drop_duplicates(['composition', 'space group', 'comp method']).groupby(['composition', 'space group']).filter(lambda x: len(x) == 4)['composition'].value_counts()</code>"
   ]
  },
  {
   "cell_type": "code",
   "execution_count": null,
   "id": "05db82f7-9872-49bb-986c-de88d511e9b3",
   "metadata": {
    "tags": []
   },
   "outputs": [],
   "source": []
  },
  {
   "cell_type": "code",
   "execution_count": null,
   "id": "059ba30c-8918-4e15-ac83-549feace867c",
   "metadata": {},
   "outputs": [],
   "source": []
  }
 ],
 "metadata": {
  "kernelspec": {
   "display_name": "Python 3 (ipykernel)",
   "language": "python",
   "name": "python3"
  },
  "language_info": {
   "codemirror_mode": {
    "name": "ipython",
    "version": 3
   },
   "file_extension": ".py",
   "mimetype": "text/x-python",
   "name": "python",
   "nbconvert_exporter": "python",
   "pygments_lexer": "ipython3",
   "version": "3.10.12"
  }
 },
 "nbformat": 4,
 "nbformat_minor": 5
}
