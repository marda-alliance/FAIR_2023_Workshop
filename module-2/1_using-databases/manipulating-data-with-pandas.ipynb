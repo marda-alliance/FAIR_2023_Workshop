{
 "cells": [
  {
   "cell_type": "markdown",
   "id": "bf23c371-e687-4177-84a7-8174be7df75f",
   "metadata": {},
   "source": [
    "# Basics of Pandas\n",
    "Pandas is a great tool for manipulating tabular data in Python, which makes it a great way to learn basic functions for working with datasets.\n",
    "\n",
    "We'll create an example where we compare the experimental and computed bandgaps for different materials."
   ]
  },
  {
   "cell_type": "code",
   "execution_count": null,
   "id": "b1cc2659-5b19-412a-a056-6ce71dc19c86",
   "metadata": {
    "tags": []
   },
   "outputs": [],
   "source": [
    "%matplotlib inline\n",
    "from matplotlib import pyplot as plt\n",
    "import pandas as pd"
   ]
  },
  {
   "cell_type": "markdown",
   "id": "909050b0-5655-426a-a5a6-65fdcdc924e2",
   "metadata": {},
   "source": [
    "Data locations. We are going to use [experiment](https://foundry-ml.org/#/datasets/10.18126%2Fwg3u-g8vu) and [computational](https://foundry-ml.org/#/datasets/10.18126%2F7io9-1z9k) datasets hosted by the [Foundry project](https://foundry-ml.org/#/)."
   ]
  },
  {
   "cell_type": "code",
   "execution_count": null,
   "id": "f68d2b96-6288-4d39-a45d-9ce5614d5625",
   "metadata": {
    "tags": []
   },
   "outputs": [],
   "source": [
    "exp_url = 'https://data.materialsdatafacility.org/foundry/foundry_experimental_band_gaps_v1.1/data_exp_no_repeat_new.json'\n",
    "dft_url = 'https://data.materialsdatafacility.org/foundry/foundry_assorted_computational_band_gaps_v1.1/All_no_MP_Aflow_OQMD_new.json'"
   ]
  },
  {
   "cell_type": "markdown",
   "id": "0f268276-13d7-44dd-9c68-264e9d0c8332",
   "metadata": {},
   "source": [
    "## Reading\n",
    "Pandas [can read from numerous tabular data formats](https://pandas.pydata.org/docs/user_guide/io.html). All are all named `read_X` and can download data from the internet for you."
   ]
  },
  {
   "cell_type": "code",
   "execution_count": null,
   "id": "3fdddb06-6239-4c76-96bc-d329bff6661a",
   "metadata": {
    "tags": []
   },
   "outputs": [],
   "source": [
    "exp_data = pd.read_json(exp_url, lines=True)\n",
    "print(f'Loaded {len(exp_data)} records')"
   ]
  },
  {
   "cell_type": "markdown",
   "id": "4d7d2499-27d0-456b-a736-a637966d4c9e",
   "metadata": {},
   "source": [
    "It's that easy. We now have a tabular dataset with a few thousand records and more data than we'll need, such as the full structure."
   ]
  },
  {
   "cell_type": "code",
   "execution_count": null,
   "id": "06b76f9b-35cd-449c-9c98-e6f6c6779da2",
   "metadata": {
    "tags": []
   },
   "outputs": [],
   "source": [
    "exp_data.head()"
   ]
  },
  {
   "cell_type": "markdown",
   "id": "fdeebe12-223f-434b-9948-9ce501d5413b",
   "metadata": {},
   "source": [
    "You can delete columns and from the dataset pretty easily."
   ]
  },
  {
   "cell_type": "code",
   "execution_count": null,
   "id": "769897f7-cfd5-4be8-8987-684ccd0b163c",
   "metadata": {
    "tags": []
   },
   "outputs": [],
   "source": [
    "exp_data.drop(columns=['structure'], inplace=True)  # Inplace alters the variable. Pandas returns a new copy by default, leaving the original intact\n",
    "exp_data.head()"
   ]
  },
  {
   "cell_type": "markdown",
   "id": "cf9d9fc7-3f08-4937-ac2a-ad8ff72c453c",
   "metadata": {},
   "source": [
    "## Cleaning the data\n",
    "The dataset is a little messy. Some of the columns have lists for bandgap values rather than single values and those single values are strings and not floats, which complicate analysis but yield an teaching moment for the benefits of Pandas.\n",
    "\n",
    "Let's show how to remove them and process the data into useful values"
   ]
  },
  {
   "cell_type": "code",
   "execution_count": null,
   "id": "06f47871-d7e6-4fd6-a3de-1646548b7de5",
   "metadata": {
    "tags": []
   },
   "outputs": [],
   "source": [
    "try:\n",
    "    exp_data['bandgap value (eV)'].max()\n",
    "except TypeError as e:\n",
    "    print(e)"
   ]
  },
  {
   "cell_type": "markdown",
   "id": "e24efdf9-54cf-4f59-a937-d10af748dba2",
   "metadata": {},
   "source": [
    "Pandas has a [built-in function for converting strings to numbers](https://pandas.pydata.org/docs/reference/api/pandas.to_numeric.html)"
   ]
  },
  {
   "cell_type": "code",
   "execution_count": null,
   "id": "e1c237b7-5a3a-4f94-9ea6-9a2f6765096e",
   "metadata": {
    "tags": []
   },
   "outputs": [],
   "source": [
    "pd.to_numeric(exp_data['bandgap value (eV)'], errors='coerce')"
   ]
  },
  {
   "cell_type": "markdown",
   "id": "d92a7166-ed8f-4c65-a8ed-cec246c74ab2",
   "metadata": {},
   "source": [
    "It returns a list of floats, which is exactly what we need. So, let's store that value as the new column because we don't need the old one"
   ]
  },
  {
   "cell_type": "code",
   "execution_count": null,
   "id": "734ab43d-ff5d-40d5-a9eb-050de12fd68c",
   "metadata": {
    "tags": []
   },
   "outputs": [],
   "source": [
    "exp_data['bandgap value (eV)'] = pd.to_numeric(exp_data['bandgap value (eV)'], errors='coerce')"
   ]
  },
  {
   "cell_type": "markdown",
   "id": "99444f18-d62d-4ab4-9890-0e1284c4f50c",
   "metadata": {},
   "source": [
    "You may have noticed some of th evalues are not numbers (`NaN`s). We can use Pandas's selection tools for removing them.\n",
    "\n",
    "One route is to supply a list of booleans."
   ]
  },
  {
   "cell_type": "code",
   "execution_count": null,
   "id": "4212af2a-662e-4fc1-b82d-8a052c29cc6c",
   "metadata": {
    "tags": []
   },
   "outputs": [],
   "source": [
    "exp_data['bandgap value (eV)'].isnull()"
   ]
  },
  {
   "cell_type": "code",
   "execution_count": null,
   "id": "b97c8806-f130-4b3f-ad49-e5b6f105c728",
   "metadata": {
    "tags": []
   },
   "outputs": [],
   "source": [
    "exp_data = exp_data[~exp_data['bandgap value (eV)'].isnull()]\n",
    "print(f'Reduced to {len(exp_data)} values')"
   ]
  },
  {
   "cell_type": "markdown",
   "id": "cd44d511-6a2c-47f4-a287-01a86b6f7ecd",
   "metadata": {},
   "source": [
    "You can also query. For example, to get the only the bandgaps which we know to be direct."
   ]
  },
  {
   "cell_type": "code",
   "execution_count": null,
   "id": "082f0afe-896b-425c-addc-17fe784f4cf1",
   "metadata": {
    "tags": []
   },
   "outputs": [],
   "source": [
    "exp_data.query('`bandgap type`==\"D\"')  # `` are used because the column name has spaces"
   ]
  },
  {
   "cell_type": "markdown",
   "id": "8718ebaa-5d8c-4137-9410-adaba540703e",
   "metadata": {},
   "source": [
    "The full query syntax supports all kind of complex expressions"
   ]
  },
  {
   "cell_type": "markdown",
   "id": "2da91db2-f2f3-46b1-aeeb-d4c3e8b27dc7",
   "metadata": {},
   "source": [
    "## Aggregating\n",
    "Many common data analysis require running the same class of analysis on different subsets of the data, \"aggregation\" operations are key for this. \n",
    "\n",
    "There are many [aggregation operations in Pandas](https://pandas.pydata.org/docs/getting_started/intro_tutorials/06_calculate_statistics.html). Simple ones like getting descriptive statistics"
   ]
  },
  {
   "cell_type": "code",
   "execution_count": null,
   "id": "5f35ee74-5c48-41bf-b88e-400f56cfd1ea",
   "metadata": {
    "tags": []
   },
   "outputs": [],
   "source": [
    "exp_data['bandgap value (eV)'].mean()"
   ]
  },
  {
   "cell_type": "code",
   "execution_count": null,
   "id": "fa1092db-55ab-4ce2-bf19-0a1d8a3027cb",
   "metadata": {},
   "outputs": [],
   "source": [
    "exp_data['bandgap value (eV)'].agg(['mean', 'count', 'sem', 'std'])"
   ]
  },
  {
   "cell_type": "code",
   "execution_count": null,
   "id": "857505da-bb94-4f8b-8347-b8c8d4ef4d30",
   "metadata": {
    "tags": []
   },
   "outputs": [],
   "source": [
    "exp_data['bandgap value (eV)'].describe()"
   ]
  },
  {
   "cell_type": "markdown",
   "id": "86eb6416-2fe3-4a36-a28c-66cf05fe5379",
   "metadata": {},
   "source": [
    "Or complicated ones like counting numbers of occurances"
   ]
  },
  {
   "cell_type": "code",
   "execution_count": null,
   "id": "022e96c2-2df8-4e81-9414-49d9571bceb1",
   "metadata": {
    "tags": []
   },
   "outputs": [],
   "source": [
    "exp_data['composition'].value_counts()"
   ]
  },
  {
   "cell_type": "markdown",
   "id": "c3e2c96c-a6c5-4d07-b040-2d6360db5293",
   "metadata": {},
   "source": [
    "They can also be performed on specific groups of data. Form groups by using the \"group by\" operation, "
   ]
  },
  {
   "cell_type": "code",
   "execution_count": null,
   "id": "61789ecf-efbf-4d99-97b1-f9580711a9e5",
   "metadata": {
    "tags": []
   },
   "outputs": [],
   "source": [
    "exp_data.groupby('composition')['bandgap value (eV)'].agg(['mean', 'max', 'std', 'sem'])"
   ]
  },
  {
   "cell_type": "markdown",
   "id": "7fefe9c5-a6fe-49ef-aca8-a5a448df3983",
   "metadata": {},
   "source": [
    "Grouping can even take multiple tags and be chained together with query operations\n",
    "\n",
    "> Chaining is why `inplace=False` is a useful default in Pandas"
   ]
  },
  {
   "cell_type": "code",
   "execution_count": null,
   "id": "1e511b48-47ae-439c-8c79-8a754ac4092d",
   "metadata": {
    "tags": []
   },
   "outputs": [],
   "source": [
    "exp_data.query('`bandgap type` != \"D\"').groupby(['composition', 'space group'])['bandgap value (eV)'].mean()"
   ]
  },
  {
   "cell_type": "markdown",
   "id": "9445586c-0d23-4c4e-84e9-18539d85db49",
   "metadata": {},
   "source": [
    "Let's end by making a single dataset with the average bandgap for each composition and spacegroup"
   ]
  },
  {
   "cell_type": "code",
   "execution_count": null,
   "id": "470a0da8-3432-4eb0-889c-d16f03c914ce",
   "metadata": {
    "tags": []
   },
   "outputs": [],
   "source": [
    "exp_bandgaps = exp_data.groupby(['composition', 'space group'])['bandgap value (eV)'].mean().reset_index()  # reset turns the single-column series into a dataframe\n",
    "exp_bandgaps"
   ]
  },
  {
   "cell_type": "markdown",
   "id": "5807b986-daa9-4101-a55d-23d5de9b5423",
   "metadata": {},
   "source": [
    "We'll give you some exercises later to help you see the power of aggregation operations."
   ]
  },
  {
   "cell_type": "markdown",
   "id": "d45159d7-c4df-45b7-bea7-4261190768f4",
   "metadata": {},
   "source": [
    "## Joining\n",
    "Data analyses often require _joining_ two different sources of data together. We'll showcase this by analyzing the differences between experiment and computation."
   ]
  },
  {
   "cell_type": "code",
   "execution_count": null,
   "id": "b4359119-67db-4c8d-a439-0a7123e9a46f",
   "metadata": {
    "tags": []
   },
   "outputs": [],
   "source": [
    "dft_data = pd.read_json(dft_url, lines=True).drop(columns=['structure', 'icsd_id'])\n",
    "dft_data.head()"
   ]
  },
  {
   "cell_type": "code",
   "execution_count": null,
   "id": "afb539bd-83aa-4766-91e3-622de3969fd3",
   "metadata": {
    "tags": []
   },
   "outputs": [],
   "source": [
    "dft_data['comp method'] = dft_data['comp method'].str.upper()"
   ]
  },
  {
   "cell_type": "markdown",
   "id": "68fc7040-7683-4770-a06a-4b9d74f715ab",
   "metadata": {},
   "source": [
    "There are [many types of join operations](https://www.devart.com/dbforge/sql/sqlcomplete/sql-join-statements.html). [Prepare for Venn Diagrams](https://www.devart.com/dbforge/sql/sqlcomplete/sql-join-statements.html) if you want to learn more about them.\n",
    "\n",
    "A common type are \"inner joins\" where you get the rows from different datasets with values that match"
   ]
  },
  {
   "cell_type": "code",
   "execution_count": null,
   "id": "5f527928-42f9-4f07-adbf-eaa4a6e1f741",
   "metadata": {
    "tags": []
   },
   "outputs": [],
   "source": [
    "joined_data = dft_data.merge(exp_data, on=['composition', 'space group'], suffixes=('_dft', '_exp'))\n",
    "joined_data.head()"
   ]
  },
  {
   "cell_type": "markdown",
   "id": "a0ed5591-26b9-476f-8571-eb7eb860e3f8",
   "metadata": {},
   "source": [
    "Note how we know have band gap values for both experiment and each computational record"
   ]
  },
  {
   "cell_type": "code",
   "execution_count": null,
   "id": "5a21cb41-9b07-4ebf-963e-ed416caaeb04",
   "metadata": {
    "tags": []
   },
   "outputs": [],
   "source": [
    "joined_data['error'] = joined_data['bandgap value (eV)_exp'] - joined_data['bandgap value (eV)_dft']"
   ]
  },
  {
   "cell_type": "code",
   "execution_count": null,
   "id": "3ba5244b-bc9c-4362-9494-acf9b9e269e6",
   "metadata": {
    "tags": []
   },
   "outputs": [],
   "source": [
    "joined_data.groupby('comp method')['error'].describe()"
   ]
  },
  {
   "cell_type": "markdown",
   "id": "69c2f3e4-3e6a-440b-8f44-50f19fc8e948",
   "metadata": {},
   "source": [
    "Plotting to make a visual display. Pandas does have [some plotting helpers](https://pandas.pydata.org/docs/user_guide/visualization.html)"
   ]
  },
  {
   "cell_type": "code",
   "execution_count": null,
   "id": "22100996-a2fa-4671-85dc-03eaead30c31",
   "metadata": {
    "tags": []
   },
   "outputs": [],
   "source": [
    "num_methods = joined_data['comp method'].value_counts().size\n",
    "print(f'Found {num_methods} computational methods')"
   ]
  },
  {
   "cell_type": "code",
   "execution_count": null,
   "id": "9dea3039-b785-4bf6-9cf1-8ef28d4bb96a",
   "metadata": {
    "tags": []
   },
   "outputs": [],
   "source": [
    "fig, axs = plt.subplots(1, 5, figsize=(8.5, 2.), sharey=True, sharex=True)\n",
    "\n",
    "for ax, (method, group) in zip(axs, joined_data.groupby('comp method')):\n",
    "    ax.scatter(group['bandgap value (eV)_dft'], group['bandgap value (eV)_exp'], s=1)\n",
    "    ax.text(0.01, 0.99, method, transform=ax.transAxes, ha='left', va='top')\n",
    "    ax.set_xlabel(f'$E_g$, {method} (eV)')\n",
    "\n",
    "# Get the range\n",
    "max_eg = max(max(ax.get_xlim()) for ax in axs)\n",
    "ax.set_xlim(0, max_eg)\n",
    "ax.set_ylim(ax.get_xlim())\n",
    "\n",
    "# Make a y=x line\n",
    "for ax in axs:\n",
    "    ax.plot(ax.get_xlim(), ax.get_xlim(), 'k--', zorder=-1)\n",
    "axs[0].set_ylabel('$E_g$, Exp (eV)')\n",
    "    \n",
    "fig.tight_layout()"
   ]
  },
  {
   "cell_type": "markdown",
   "id": "afccb0c0-4456-4b88-a944-b162b52b6338",
   "metadata": {},
   "source": [
    "Pandas makes it easy to manipulate data."
   ]
  },
  {
   "cell_type": "markdown",
   "id": "151fca53-b734-4995-af91-eafaf46c3aac",
   "metadata": {},
   "source": [
    "## Exercises\n",
    "Here are a few questions which will test your ability to use Pandas. Try to do them in as few steps as possible."
   ]
  },
  {
   "cell_type": "markdown",
   "id": "72beec16-d3c3-43a9-8c22-5028edc98bd8",
   "metadata": {},
   "source": [
    "_Add a column to `exp_data` which is the temperature in Celcius_.\n",
    "<code hidden>exp_data['temp (C)'] = pd.to_numeric(exp_data['temp (K)'], errors='coerce') - 273.15</code>"
   ]
  },
  {
   "cell_type": "code",
   "execution_count": null,
   "id": "eb7e6993-6edb-4a04-a9bc-e2c055fbd939",
   "metadata": {
    "tags": []
   },
   "outputs": [],
   "source": []
  },
  {
   "cell_type": "markdown",
   "id": "3ffa422c-aafa-44dc-a57d-2a05629f9fb9",
   "metadata": {},
   "source": [
    "_Which composition, space group, and method have the largest error?_\n",
    "<code hidden>joined_data.loc[joined_data['error'].abs().idxmax(), ['composition', 'space group', 'comp method', 'error']]</code>"
   ]
  },
  {
   "cell_type": "code",
   "execution_count": null,
   "id": "01f94624-54ac-415f-ab99-97c7e921faad",
   "metadata": {
    "tags": []
   },
   "outputs": [],
   "source": []
  },
  {
   "cell_type": "markdown",
   "id": "a343af91-3347-4b80-aba2-9d890545f448",
   "metadata": {},
   "source": [
    "_How many compositions have experiment bandgaps at more than one temperature_?\n",
    "<code hidden>(exp_data.groupby('composition')['temp (K)'].value_counts() > 1).sum()</code>"
   ]
  },
  {
   "cell_type": "code",
   "execution_count": null,
   "id": "2261d962-a951-41fb-bf6b-0ff054187d2f",
   "metadata": {
    "tags": []
   },
   "outputs": [],
   "source": []
  },
  {
   "cell_type": "markdown",
   "id": "14990058-cfc6-49ec-a3b2-8e90b558c5bc",
   "metadata": {},
   "source": [
    "_What is the median error between each method and experiment?_\n",
    "<code hidden>joined_data.groupby('comp method')['error'].median()</code>"
   ]
  },
  {
   "cell_type": "code",
   "execution_count": null,
   "id": "9ccfcba8-5047-485e-8313-ffe213f4f3c9",
   "metadata": {
    "tags": []
   },
   "outputs": [],
   "source": []
  },
  {
   "cell_type": "markdown",
   "id": "48d41a05-d284-452b-b056-9c3553fb23f5",
   "metadata": {},
   "source": [
    "_What is the mean absolute error after subtracting off this median error_? Hint: I used [apply](https://pandas.pydata.org/docs/reference/api/pandas.core.groupby.DataFrameGroupBy.apply.html).\n",
    "<code hidden>joined_data.groupby('comp method').apply(lambda x: (x['error'] - x['error'].median()).abs().mean())</code>"
   ]
  },
  {
   "cell_type": "code",
   "execution_count": null,
   "id": "5c69396f-61ea-4856-80d1-5a1243ec2da7",
   "metadata": {},
   "outputs": [],
   "source": []
  },
  {
   "cell_type": "markdown",
   "id": "777d09b7-8cbb-4e8c-9e9a-a3a124855a5e",
   "metadata": {},
   "source": [
    "_Which are the compounds where 4 of 5 computational methods have been evaluated_?\n",
    "<code hidden>joined_data.drop_duplicates(['composition', 'space group', 'comp method']).groupby(['composition', 'space group']).filter(lambda x: len(x) == 4)['composition'].value_counts()</code>"
   ]
  },
  {
   "cell_type": "code",
   "execution_count": null,
   "id": "05db82f7-9872-49bb-986c-de88d511e9b3",
   "metadata": {
    "tags": []
   },
   "outputs": [],
   "source": []
  },
  {
   "cell_type": "code",
   "execution_count": null,
   "id": "059ba30c-8918-4e15-ac83-549feace867c",
   "metadata": {},
   "outputs": [],
   "source": []
  }
 ],
 "metadata": {
  "kernelspec": {
   "display_name": "Python 3 (ipykernel)",
   "language": "python",
   "name": "python3"
  },
  "language_info": {
   "codemirror_mode": {
    "name": "ipython",
    "version": 3
   },
   "file_extension": ".py",
   "mimetype": "text/x-python",
   "name": "python",
   "nbconvert_exporter": "python",
   "pygments_lexer": "ipython3",
   "version": "3.10.12"
  }
 },
 "nbformat": 4,
 "nbformat_minor": 5
}
