{
 "cells": [
  {
   "cell_type": "markdown",
   "id": "04a9ff0f-68ec-4257-8ab9-429f577ee06b",
   "metadata": {},
   "source": [
    "# Learning REST APIs with NoMaD\n",
    "\n",
    "REST APIs are a common pattern for accessing content across the internet. \n",
    "This notebook will explain how to understand the API of a new service and make requests of it using [NoMaD](https://nomad-lab.eu/nomad-lab/nomad.html) as an example. \n",
    "You will learn:\n",
    "\n",
    "1. How to create a web request via Python\n",
    "2. How to read API specifications\n",
    "3. Debug basic errors in web requests"
   ]
  },
  {
   "cell_type": "code",
   "execution_count": null,
   "id": "fb2f2658-dda3-4993-8ea2-41628cb846de",
   "metadata": {
    "tags": []
   },
   "outputs": [],
   "source": [
    "import requests"
   ]
  },
  {
   "cell_type": "markdown",
   "id": "cdbdc27e-6fa1-48fd-bebf-1ca3b2698481",
   "metadata": {},
   "source": [
    "Configuration"
   ]
  },
  {
   "cell_type": "code",
   "execution_count": null,
   "id": "996c8aad-3b83-45f2-915d-87462ec6e6f7",
   "metadata": {
    "tags": []
   },
   "outputs": [],
   "source": [
    "base_url = 'https://nomad-lab.eu/prod/v1/api/v1'"
   ]
  },
  {
   "cell_type": "markdown",
   "id": "c5b4839f-a64d-4bb7-af22-c92796d34e35",
   "metadata": {},
   "source": [
    "## Web Requests\n",
    "The [Requests library](https://requests.readthedocs.io/en/latest/) is an extension to Python that simplifies interacting with websites.\n",
    "Every web request has a few key components, which include:\n",
    "\n",
    "1. _Method_: The type of request. There are a few different types of requests. \"GET,\" for example, is to read data from a source\n",
    "1. _URL_: The location of the web service being contacted\n",
    "1. _params_: Any options attached to the \n",
    "1. _body_: Content that you are sending to the server\n",
    "1. _headers_: Metadata about the content you are sending, such as a security key to authenticate its source"
   ]
  },
  {
   "cell_type": "markdown",
   "id": "49a78231-775f-433f-943e-b2dc31eb809a",
   "metadata": {},
   "source": [
    "For example, you can perform a Google search by sending parameters `{\"q\": \"rest api\"}` to `google.com/search`"
   ]
  },
  {
   "cell_type": "code",
   "execution_count": null,
   "id": "b0e582de-7c03-40e3-b459-e0b0fde03bfc",
   "metadata": {
    "tags": []
   },
   "outputs": [],
   "source": [
    "response = requests.request('GET', 'http://google.com/search', params={\"q\": \"rest api\"}, data=None, headers=None)\n",
    "response.url"
   ]
  },
  {
   "cell_type": "markdown",
   "id": "d3c02024-e48f-41c7-837e-cf1998ab6ea8",
   "metadata": {},
   "source": [
    "In return, the web service sends you a reply with a few parts:\n",
    "\n",
    "1. _Response code and reason_: One of an [established list](https://developer.mozilla.org/en-US/docs/Web/HTTP/Status) [of codes](https://http.cat/)\n",
    "2. _Headers_: That provide you information about the content (e.g., what type is it)\n",
    "3. _Content_: What you asked for\n"
   ]
  },
  {
   "cell_type": "code",
   "execution_count": null,
   "id": "4d117f56-284c-4a7e-bbcd-568eb585eddf",
   "metadata": {
    "tags": []
   },
   "outputs": [],
   "source": [
    "(response.status_code, response.reason)"
   ]
  },
  {
   "cell_type": "code",
   "execution_count": null,
   "id": "f4a730b7-c6f6-48f3-9968-aab59f11bf62",
   "metadata": {
    "tags": []
   },
   "outputs": [],
   "source": [
    "response.headers"
   ]
  },
  {
   "cell_type": "code",
   "execution_count": null,
   "id": "203ff17c-a577-4a50-8972-f0dde797e4d7",
   "metadata": {
    "tags": []
   },
   "outputs": [],
   "source": [
    "response.content[:128].decode('ascii')"
   ]
  },
  {
   "cell_type": "markdown",
   "id": "9d7aae20-ef58-44f9-82fe-1bde8a1f11a3",
   "metadata": {},
   "source": [
    "These actions and data structures are the basic language of web applications. \n",
    "\n",
    "Google's normal web page returns data in a form, HTML, that can be turned by your web browser into a form legible by humans.\n",
    "\n",
    "REST APIs are for data meant for machines."
   ]
  },
  {
   "cell_type": "markdown",
   "id": "809e42b6-7269-40a0-b759-a3e9b04d2477",
   "metadata": {},
   "source": [
    "## The NoMaD API Documentation\n",
    "The NoMaD web API is a classic example of a REST API and, even better, one that follows the [OpenAPI specification](https://en.wikipedia.org/wiki/OpenAPI_Specification). \n",
    "We'll use it to teach you the basics.\n",
    "\n",
    "Start by opening their [API specification](https://nomad-lab.eu/prod/v1/staging/api/v1/extensions/docs#/). The top level of the page provides different \"endpoints\" for making API results\n",
    "\n",
    "![nomad-toplevel](./figures/nomad-api-toplevel.png)\n",
    "\n",
    "Each row defines the request method and the address (releative to the webpage root) for a different type of methods.\n",
    "\n",
    "Some endpoints, like `/materials/{material_id}/`, describe a pattern of URLs where an element in the URL has a specific meaning, like the index number of a material in a database.\n",
    "\n",
    "Let's start with the `/materials/` endpoint"
   ]
  },
  {
   "cell_type": "code",
   "execution_count": null,
   "id": "14b98485-dbd2-4067-9141-974b53714fb6",
   "metadata": {
    "tags": []
   },
   "outputs": [],
   "source": [
    "response = requests.get(f'{base_url}/materials')\n",
    "response.content[:128]"
   ]
  },
  {
   "cell_type": "markdown",
   "id": "aa00a0d2-f803-41f0-a987-245b8998dd63",
   "metadata": {},
   "source": [
    "The first point to note is that the data returns a JSON object. JSON messages are such a common language that the response object has a special method to parse this message."
   ]
  },
  {
   "cell_type": "code",
   "execution_count": null,
   "id": "0ef685ee-fbbd-4775-8adb-bd6d06dbedaf",
   "metadata": {
    "tags": []
   },
   "outputs": [],
   "source": [
    "data = response.json()\n",
    "data.keys()"
   ]
  },
  {
   "cell_type": "markdown",
   "id": "e3c877e6-123f-4e46-8505-aa29bf949b16",
   "metadata": {},
   "source": [
    "We don't print the full response because it's huge. But, you can see just from the keys that we you don't fully understand what the data means.\n",
    "\n",
    "The API documentation explains that part to you.\n",
    "\n",
    "![response-description](./figures/nomad-api-schema.png)"
   ]
  },
  {
   "cell_type": "markdown",
   "id": "dfa4c3ef-eaf1-4495-bb7c-a761463a30b5",
   "metadata": {},
   "source": [
    "The data is in JSON and the API documentation webpage is rendered [a sophisticated JSON schema.](https://nomad-lab.eu/prod/v1/staging/api/v1/openapi.json)\n",
    "\n",
    "Everything is documented, and NoMaD is in a good company of well-documented REST APIs."
   ]
  },
  {
   "cell_type": "markdown",
   "id": "149fedc7-4d73-426a-b5e0-fab7e845e72f",
   "metadata": {},
   "source": [
    "## Practical Skills\n",
    "Parameters and POSTing, pagination, and authentication are a few skills that will come up often when using web APIs."
   ]
  },
  {
   "cell_type": "markdown",
   "id": "dd0cdea8-3e72-427d-87da-d190136eac23",
   "metadata": {},
   "source": [
    "### Parameters and POSTing\n",
    "POSTing and Parameters are the mechanisms used to pass form data in web pages. Parameters are everything after the \"?\" the end of a web page, and POST forms are those which ask if if \"you're sure you want to resubmit a form\" when refreshing the page.\n",
    "\n",
    "Those mechanisms are also used through a REST API. Let's use the [/entries](https://nomad-lab.eu/prod/v1/staging/api/v1/extensions/docs#/entries%2Fmetadata/get_entries_metadata_entries_get) and [/entries/query](https://nomad-lab.eu/prod/v1/staging/api/v1/extensions/docs#/entries%2Fmetadata/post_entries_metadata_query_entries_query_post) endpoints as examples, which support running queries via parameters and POST data (respectively).\n",
    "\n",
    "Start by reading the documentation for `/entries/` to see that it takes a few options, like how to sort data. We can use that to see that the most recent data was published very recently."
   ]
  },
  {
   "cell_type": "code",
   "execution_count": null,
   "id": "0c37f180-a250-4bb7-907e-c26ffafe5690",
   "metadata": {
    "tags": []
   },
   "outputs": [],
   "source": [
    "response = requests.get(f'{base_url}/entries', params={'owner': 'visible', 'order_by': 'publish_time', 'order': 'desc'})\n",
    "result = response.json()\n",
    "result['data'][0]['publish_time']"
   ]
  },
  {
   "cell_type": "markdown",
   "id": "a3bedb6f-5db0-4cfa-9cbf-81d7d545c2a2",
   "metadata": {
    "tags": []
   },
   "source": [
    "And that the first data was almost 10 years ago"
   ]
  },
  {
   "cell_type": "code",
   "execution_count": null,
   "id": "b17fdd7a-0bd0-4871-81dd-179b1b3a8cd4",
   "metadata": {
    "tags": []
   },
   "outputs": [],
   "source": [
    "result = requests.get(f'{base_url}/entries', params={'owner': 'visible', 'order_by': 'publish_time', 'order': 'asc'}).json()\n",
    "result['data'][0]['publish_time']"
   ]
  },
  {
   "cell_type": "markdown",
   "id": "553e04b1-3404-4ee7-ae8c-736066a32c46",
   "metadata": {},
   "source": [
    "The `entries/query` endpoint provides the same functionality but through a different mechanism, `POST`. Any options you pass to the web service are sent in the body of the request rather than in the URL, as in the `GET` method."
   ]
  },
  {
   "cell_type": "code",
   "execution_count": null,
   "id": "2a924906-73b5-4c18-93f9-848a8a7e2c6f",
   "metadata": {
    "tags": []
   },
   "outputs": [],
   "source": [
    "response.url"
   ]
  },
  {
   "cell_type": "markdown",
   "id": "06c89ade-cdea-4206-8048-05d5db30dbe6",
   "metadata": {},
   "source": [
    "So, the options are sent by providing a JSON-able object instead of providing them as \"params\"."
   ]
  },
  {
   "cell_type": "code",
   "execution_count": null,
   "id": "14317bc7-1a39-44a4-891f-89fe268fc2a7",
   "metadata": {
    "tags": []
   },
   "outputs": [],
   "source": [
    "response = requests.post(f'{base_url}/entries/query', json={'owner': 'visible', 'pagination': {'order_by': 'publish_time', 'order': 'asc'}})\n",
    "result = response.json()\n",
    "result['data'][0]['publish_time']"
   ]
  },
  {
   "cell_type": "code",
   "execution_count": null,
   "id": "46627e69-738e-48b1-95ee-911b324df8f5",
   "metadata": {
    "tags": []
   },
   "outputs": [],
   "source": [
    "response.url"
   ]
  },
  {
   "cell_type": "markdown",
   "id": "8b7ad33c-0cbe-4180-93e3-a4c9a9cba8d0",
   "metadata": {},
   "source": [
    "### Pagination\n",
    "REST APIs work best with small message sizes (typically less than 10MB). Consequently, a service may not provide you with only part of the results and a shortcut for how to find the rest of them. This pattern is known as \"pagination\"\n",
    "\n",
    "The last query we sent to NoMaD had pagination information"
   ]
  },
  {
   "cell_type": "code",
   "execution_count": null,
   "id": "99c20882-4b4a-4114-919b-835c43baa1a3",
   "metadata": {
    "tags": []
   },
   "outputs": [],
   "source": [
    "result.keys()"
   ]
  },
  {
   "cell_type": "code",
   "execution_count": null,
   "id": "cb583cf9-4633-44cf-8800-bbe4a0390ddb",
   "metadata": {
    "tags": []
   },
   "outputs": [],
   "source": [
    "result['pagination']"
   ]
  },
  {
   "cell_type": "markdown",
   "id": "6a1c9a21-9a0f-43f4-a4f0-7398882e37d6",
   "metadata": {},
   "source": [
    "Note how there are 12M records - far more than NoMaD wants to send you and you want to receive."
   ]
  },
  {
   "cell_type": "markdown",
   "id": "0e6c097d-8caf-4dc9-91b9-3c5721c0acca",
   "metadata": {},
   "source": [
    "That information tells us how to go and find the next query. There is variation across web services but all provide something that can be pasted into your next request"
   ]
  },
  {
   "cell_type": "code",
   "execution_count": null,
   "id": "e806d2bd-fe0a-4b75-984e-43fcead1b030",
   "metadata": {
    "tags": []
   },
   "outputs": [],
   "source": [
    "result['pagination']['page_after_value'] = result['pagination']['next_page_after_value']\n",
    "result = requests.post(f'{base_url}/entries/query', json={'owner': 'visible', 'pagination': result['pagination']}).json()  # Just paste in the last result\n",
    "result['data'][0]['publish_time']"
   ]
  },
  {
   "cell_type": "code",
   "execution_count": null,
   "id": "469270dd-bf25-410a-b482-ed6e799ceaae",
   "metadata": {
    "tags": []
   },
   "outputs": [],
   "source": [
    "result['pagination']"
   ]
  },
  {
   "cell_type": "markdown",
   "id": "23fe7f94-b589-4ca5-8547-47ee3a88c01f",
   "metadata": {},
   "source": [
    "The pages move forward each time we run.\n",
    "\n",
    "Look for \"pagination\" in your website to figure out how to move foward. Not all are the same, but they all rhyme."
   ]
  },
  {
   "cell_type": "markdown",
   "id": "c2bbc2d7-81a5-44a8-b132-5b1daa78c890",
   "metadata": {},
   "source": [
    "### Authentication\n",
    "\n",
    "Authentication flows are composed of two segments: a \"login flow\" to get a token, and an area to place a token within a request.\n",
    "\n",
    "The \"industry-grade\" login flow standard is the OAuth2 flow, which can grant different applications different levels of access and work with users authenticated different services that what is protected. [It's a mind-bender](https://www.digitalocean.com/community/tutorials/an-introduction-to-oauth-2), so not the best teaching example.\n",
    "\n",
    "NoMaD's authentication is a simpler example. It uses a single endpoint, `/auth/token`, which grants a \"token\" that is what is used to verify requests are coming from you.\n",
    "\n",
    "That token will be used as part of the header of any requests that require a user account."
   ]
  },
  {
   "cell_type": "code",
   "execution_count": null,
   "id": "f5d61bb8-7011-4379-ae3a-cd7c988919fc",
   "metadata": {
    "tags": []
   },
   "outputs": [],
   "source": [
    "token = 'whatever_auth/token_gave_you'  # Not real, of course"
   ]
  },
  {
   "cell_type": "code",
   "execution_count": null,
   "id": "01e65fc3-a1e7-4c32-b85c-d5bb79ac1335",
   "metadata": {
    "tags": []
   },
   "outputs": [],
   "source": [
    "requests.get(f'{base_url}/users/me').json()"
   ]
  },
  {
   "cell_type": "code",
   "execution_count": null,
   "id": "5d37ac2f-bfd6-4829-bbdb-7c5a0598a38b",
   "metadata": {
    "tags": []
   },
   "outputs": [],
   "source": [
    "requests.get(f'{base_url}/users/me', headers={'Authorization': f'Bearer {token}'}).json()"
   ]
  },
  {
   "cell_type": "markdown",
   "id": "b128e78d-dec2-46f7-bac4-8825247ae298",
   "metadata": {},
   "source": [
    "Of course, this example did not work because the token was fake. \n",
    "\n",
    "Like pagination, you'll see a few variations of the theme for tokens:\n",
    "\n",
    "1. Tokens which expire after a time\n",
    "1. Tokens which are only good for certain requests\n",
    "1. Tokens which are only used to re-create expired tokens\n",
    "\n",
    "You'll also rarely need to inject your own tokens into headers. Many APIs (even [NOMAD's](https://nomad-lab.eu/prod/v1/staging/docs/apis/pythonlib.html)) provide libraries which hide the tedious parts of using their APIs, such as injecting tokens or pagination."
   ]
  },
  {
   "cell_type": "markdown",
   "id": "2c283272-10e3-4413-9b97-9fdd9a8f448d",
   "metadata": {},
   "source": [
    "## Exercises\n",
    "\n",
    "Try to answer a few questions about NoMaD to test your skills with REST interfaces.\n",
    "\n",
    "You may want to see [NOMAD's query documentation](https://nomad-lab.eu/prod/v1/staging/docs/apis/api.html#queries)\n",
    "\n",
    "- Find the largest number of atoms? (HINT: atom count is `optimade.nsites`)"
   ]
  },
  {
   "cell_type": "code",
   "execution_count": null,
   "id": "27cd3349-e7a3-472b-bf53-99755b588c75",
   "metadata": {
    "tags": []
   },
   "outputs": [],
   "source": []
  },
  {
   "cell_type": "markdown",
   "id": "b546f30a-003a-4120-a683-3c9fa9dbfc9d",
   "metadata": {},
   "source": [
    "My solution is hidden below\n",
    "<code hidden>\n",
    "data = requests.post(f'{base_url}/entries/query', json={'pagination': {'order_by': 'optimade.nsites', 'order': 'desc', 'page_size': 1}}).json()['data']\n",
    "data[0]['optimade']['nsites']\n",
    "</code>"
   ]
  },
  {
   "cell_type": "markdown",
   "id": "5a00a465-edcb-446d-bfd2-d214c302799e",
   "metadata": {},
   "source": [
    "- Find the chemical formula of the largest calculation performed with VASP (HINT: use the [results explorer to see available results fields](https://nomad-lab.eu/prod/v1/gui/search/entries/entry/id/zQJMKax7xk384h_rx7VW_-6bRIgi/data/results/method))"
   ]
  },
  {
   "cell_type": "code",
   "execution_count": null,
   "id": "eface649-9a11-40fc-b1d1-ad00fb0e1eba",
   "metadata": {
    "tags": []
   },
   "outputs": [],
   "source": []
  },
  {
   "cell_type": "markdown",
   "id": "3fb8227e-c6d3-4bb7-8dff-c65e850250ea",
   "metadata": {},
   "source": [
    "<code hidden>\n",
    "data = requests.post(f'{base_url}/entries/query', json={'query': {'results.method.simulation.program_name': 'VASP'}, 'pagination': {'order_by': 'optimade.nsites', 'order': 'desc', 'page_size': 1}}).json()['data']\n",
    "data[0]['results']['material']['chemical_formula_hill']\n",
    "</code>"
   ]
  },
  {
   "cell_type": "markdown",
   "id": "5900e72b-5e36-46d3-8867-dfb878611671",
   "metadata": {},
   "source": [
    "- Count the number of CP2K calculations above 2000 atoms"
   ]
  },
  {
   "cell_type": "code",
   "execution_count": null,
   "id": "a8f68744-325b-400d-957b-496944c2eee0",
   "metadata": {
    "tags": []
   },
   "outputs": [],
   "source": []
  },
  {
   "cell_type": "markdown",
   "id": "6b1ea72c-27bc-4003-bc21-c1423b2f4035",
   "metadata": {},
   "source": [
    "<code hidden>\n",
    "result = requests.post(f'{base_url}/entries/query', json={'query': {'results.method.simulation.program_name': 'CP2K', 'optimade.nsites': {'gt': 2000}}, 'pagination': {'order_by': 'optimade.nsites', 'order': 'desc', 'page_size': 1}}).json()\n",
    "result['pagination']['total']\n",
    "</code>"
   ]
  },
  {
   "cell_type": "markdown",
   "id": "7fb1609c-f40e-4487-9635-89c2195dfd49",
   "metadata": {},
   "source": [
    "- Count the number of times program_name was used to run a `results.method.method_name` of DFT above 2000 atoms. HINTS: Use [Counters](https://docs.python.org/3/library/collections.html#collections.Counter.update), there is no `next_page_after_value` if there are no results after the current page"
   ]
  },
  {
   "cell_type": "code",
   "execution_count": null,
   "id": "5b8cba6b-d64c-4f60-9f7f-b72feb65d140",
   "metadata": {
    "tags": []
   },
   "outputs": [],
   "source": []
  },
  {
   "cell_type": "markdown",
   "id": "884dc7e8-9100-4b3e-b2cc-93c5f84a538a",
   "metadata": {},
   "source": [
    "<code hidden>\n",
    "from collections import Counter\n",
    "counter = Counter()\n",
    "pagination = {}\n",
    "while (result := requests.post(f'{base_url}/entries/query', json={'query': {'results.method.method_name': 'DFT', 'optimade.nsites': {'gt': 2000}}, 'pagination': pagination}).json()) is not None:\n",
    "    # Update the counter\n",
    "    counter.update(\n",
    "        x['results']['method']['simulation'].get('program_name') for x in result['data']\n",
    "    )\n",
    "\n",
    "    # Break if done\n",
    "    if 'next_page_after_value' not in result['pagination']:\n",
    "        break\n",
    "        \n",
    "    # Make the new pagination\n",
    "    pagination = result['pagination'].copy()\n",
    "    pagination['page_after_value'] = pagination['next_page_after_value']\n",
    "counter\n",
    "</code>"
   ]
  },
  {
   "cell_type": "code",
   "execution_count": null,
   "id": "3642ac5d-8704-4ca3-ad29-f4703ed31c8b",
   "metadata": {},
   "outputs": [],
   "source": []
  }
 ],
 "metadata": {
  "kernelspec": {
   "display_name": "Python 3 (ipykernel)",
   "language": "python",
   "name": "python3"
  },
  "language_info": {
   "codemirror_mode": {
    "name": "ipython",
    "version": 3
   },
   "file_extension": ".py",
   "mimetype": "text/x-python",
   "name": "python",
   "nbconvert_exporter": "python",
   "pygments_lexer": "ipython3",
   "version": "3.10.12"
  }
 },
 "nbformat": 4,
 "nbformat_minor": 5
}
