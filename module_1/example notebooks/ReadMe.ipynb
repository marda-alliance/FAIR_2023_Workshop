{
 "cells": [
  {
   "attachments": {
    "pdc_art.jpg": {
     "image/jpeg": "[encoded data removed]"
    }
   },
   "cell_type": "markdown",
   "metadata": {},
   "source": [
    "![pdc_art.jpg](attachment:pdc_art.jpg)\n",
    "\n",
    "---\n",
    "\n",
    "## PARADIM Example Notebooks\n",
    "\n",
    "This directory contains a range of example Jupyter notebooks (and associated data files) used in workshops and trainings for the PARADIM Data Collective (PDC).  Most of the notebooks are taken directly or are minor modifications of those publicly available on GitHub. Some were created *de novo* by PDC folks. We have tried to keep references to original authors and links, but some examples are used so commonly that proper attribution can get lost.\n",
    "\n",
    "**These files are located in the paradim-data volume which makes them *read-only***; you can make changes, but cannot save changes.  To really play around and save changes you should copy the notebooks to your own workspace. To help you and as a learning exercise,this notebook contains two cells with alternative ways to copy the example notebooks into your own, persistent directory. In your persistent directory you have file writing privileges so you make changes and work with these examples as you wish.  \n",
    "\n",
    "You can also pull copies of new versions of the notebooks directly from the public GitHub repository at: https://github.com/mededsc/mede_example_notebooks.\n",
    "\n",
    "---\n",
    "\n",
    "<i>David Elbert and Nick Carey, \n",
    "  Johns Hopkins University</i>\n"
   ]
  },
  {
   "cell_type": "markdown",
   "metadata": {
    "collapsed": true
   },
   "source": [
    "##### The following are two ways you can copy the notebooks to your persistent folder.  Execute either (but not both) if you'd like to have writeable copies to really change:"
   ]
  },
  {
   "cell_type": "code",
   "execution_count": null,
   "metadata": {
    "collapsed": true
   },
   "outputs": [],
   "source": [
    "# This cell will copy the notebooks using Python and the SciServer API to \n",
    "# find your username and insert it in the proper place in path.  It then uses the Python\n",
    "# shell utility \"shutil\" to copy the example notebooks into your persistent directory.\n",
    "\n",
    "import SciServer.Authentication\n",
    "import shutil\n",
    "import os\n",
    "\n",
    "myToken = SciServer.Authentication.getToken()\n",
    "myPath = '/home/idies/workspace/Storage/' + SciServer.Authentication.getKeystoneUserWithToken(myToken).userName + '/persistent/mede_exmple_notebooks/'\n",
    "shutil.copytree('/home/idies/workspace/mede_data/mede_example_notebooks', os.path.abspath(myPath))"
   ]
  },
  {
   "cell_type": "code",
   "execution_count": null,
   "metadata": {
    "collapsed": true
   },
   "outputs": [],
   "source": [
    "# An alternative is to use Jupyter magics to execute the standard, Bash shell command \"cp\"\n",
    "# The Bash shell doesn't have access to the SciServer API so you will need to \n",
    "# BE SURE TO CHANGE THE CODE TO INSERT YOUR SCISERVER USERNAME for \"username\" below.\n",
    "# If you want to do it this way, just uncomment the following line and execute this cell\n",
    "# !rsync -av --exclude=\".*\" /home/idies/workspace/mede_data/mede_example_notebooks /home/idies/workspace/Storage/username/persistent/mede_example_notebooks"
   ]
  }
 ],
 "metadata": {
  "kernelspec": {
   "display_name": "Python 3",
   "language": "python",
   "name": "python3"
  },
  "language_info": {
   "codemirror_mode": {
    "name": "ipython",
    "version": 3
   },
   "file_extension": ".py",
   "mimetype": "text/x-python",
   "name": "python",
   "nbconvert_exporter": "python",
   "pygments_lexer": "ipython3",
   "version": "3.8.2"
  }
 },
 "nbformat": 4,
 "nbformat_minor": 2
}
