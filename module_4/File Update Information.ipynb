{
 "cells": [
  {
   "cell_type": "markdown",
   "metadata": {},
   "source": [
    "# HyperThought® File Information"
   ]
  },
  {
   "cell_type": "markdown",
   "metadata": {},
   "source": [
    "## Access Information and Other Configurations"
   ]
  },
  {
   "cell_type": "code",
   "execution_count": 1,
   "metadata": {},
   "outputs": [],
   "source": [
    "import base64\n",
    "import json\n",
    "import requests\n",
    "\n",
    "\n",
    "access_payload = input(\"Please input your HyperThought API Access Payload: \")\n",
    "access_object = json.loads(base64.b64decode(access_payload))\n",
    "\n",
    "headers = {\n",
    "    'Authorization': f'Bearer {access_object[\"accessToken\"]}'\n",
    "}"
   ]
  },
  {
   "cell_type": "markdown",
   "metadata": {},
   "source": [
    "## Get File Information from HyperThought"
   ]
  },
  {
   "cell_type": "code",
   "execution_count": 2,
   "metadata": {},
   "outputs": [
    {
     "name": "stderr",
     "output_type": "stream",
     "text": [
      "c:\\Python\\Python310\\lib\\site-packages\\urllib3\\connectionpool.py:1056: InsecureRequestWarning: Unverified HTTPS request is being made to host 'www.hyperthought.io'. Adding certificate verification is strongly advised. See: https://urllib3.readthedocs.io/en/1.26.x/advanced-usage.html#ssl-warnings\n",
      "  warnings.warn(\n",
      "c:\\Python\\Python310\\lib\\site-packages\\urllib3\\connectionpool.py:1056: InsecureRequestWarning: Unverified HTTPS request is being made to host 'www.hyperthought.io'. Adding certificate verification is strongly advised. See: https://urllib3.readthedocs.io/en/1.26.x/advanced-usage.html#ssl-warnings\n",
      "  warnings.warn(\n"
     ]
    },
    {
     "name": "stdout",
     "output_type": "stream",
     "text": [
      "{\n",
      "  \"name\": \"A0.txt\",\n",
      "  \"ftype\": \"txt\",\n",
      "  \"path\": \",\",\n",
      "  \"path_string\": \"/A0.txt\",\n",
      "  \"size\": 4047,\n",
      "  \"items\": 0,\n",
      "  \"backend\": \"s3\",\n",
      "  \"file\": \"e4a0edd4-1bab-4b83-8e8d-83dac16fb131\",\n",
      "  \"pk\": \"f5c7d148-55b8-47e0-82cc-9a9b23bc84da\",\n",
      "  \"metadata\": [],\n",
      "  \"pid\": \"485d54ee-0c45-4ba5-b462-50eaf039357c\",\n",
      "  \"distributionLevel\": \"\",\n",
      "  \"exportControl\": \"\",\n",
      "  \"canonicalUri\": \"/files/filesystementry/f5c7d148-55b8-47e0-82cc-9a9b23bc84da\",\n",
      "  \"workspaceName\": \"test\",\n",
      "  \"createdOn\": \"2021-10-12T13:49:36.205078Z\",\n",
      "  \"createdBy\": \"James Fourman\",\n",
      "  \"modifiedOn\": \"2021-10-12T13:49:36.205078Z\",\n",
      "  \"modifiedBy\": \"James Fourman\",\n",
      "  \"resources\": {\n",
      "    \"id\": \"/api/files/v1/f5c7d148-55b8-47e0-82cc-9a9b23bc84da/\",\n",
      "    \"pid\": \"/api/files/v1/pid/485d54ee-0c45-4ba5-b462-50eaf039357c/\",\n",
      "    \"workspace\": \"/api/workspace/7fe09894-d7f6-4f1d-a03f-67730ac7b682/\",\n",
      "    \"workspaceView\": \"/workspace/7fe09894-d7f6-4f1d-a03f-67730ac7b682/detail/\",\n",
      "    \"generateDownloadUrl\": \"/api/files/generate-download-url/?id=f5c7d148-55b8-47e0-82cc-9a9b23bc84da\"\n",
      "  }\n",
      "}\n"
     ]
    }
   ],
   "source": [
    "file_pk = input(\"File Identifier: \")\n",
    "\n",
    "file_info_payload = {\n",
    "    'id': file_pk\n",
    "}\n",
    "\n",
    "file_info_request = requests.get(\n",
    "    url=f'{access_object[\"baseUrl\"]}/api/files/v1/{file_pk}',\n",
    "    params=file_info_payload,\n",
    "    headers=headers,\n",
    "    verify=False\n",
    ")\n",
    "\n",
    "file_info_request_data = file_info_request.json()\n",
    "\n",
    "print(json.dumps(file_info_request_data, indent=2))"
   ]
  },
  {
   "cell_type": "markdown",
   "metadata": {},
   "source": [
    "## Update File Information"
   ]
  },
  {
   "cell_type": "code",
   "execution_count": 3,
   "metadata": {},
   "outputs": [
    {
     "name": "stderr",
     "output_type": "stream",
     "text": [
      "c:\\Python\\Python310\\lib\\site-packages\\urllib3\\connectionpool.py:1056: InsecureRequestWarning: Unverified HTTPS request is being made to host 'www.hyperthought.io'. Adding certificate verification is strongly advised. See: https://urllib3.readthedocs.io/en/1.26.x/advanced-usage.html#ssl-warnings\n",
      "  warnings.warn(\n"
     ]
    },
    {
     "name": "stdout",
     "output_type": "stream",
     "text": [
      "{\n",
      "  \"message\": \"Document updated\"\n",
      "}\n"
     ]
    }
   ],
   "source": [
    "\"\"\"\n",
    "'updates': {\n",
    "    'metadata': [\n",
    "        {\n",
    "            'keyName': '',\n",
    "            'value': {\n",
    "                'type': 'string',\n",
    "                'link': ''\n",
    "            },\n",
    "            'unit': '',\n",
    "            'annotation': ''\n",
    "        },...\n",
    "    ]\n",
    "}\n",
    "\"\"\"\n",
    "\n",
    "update_data = {\n",
    "    'file_id': file_pk,\n",
    "    'updates': {\n",
    "        'metadata': [\n",
    "            {\n",
    "                'keyName': 'Color',\n",
    "                'value': {\n",
    "                    'type': 'string',\n",
    "                    'link': 'Red'\n",
    "                }\n",
    "            }\n",
    "        ]\n",
    "    }\n",
    "}\n",
    "\n",
    "update_request = requests.patch(\n",
    "    url=f'{access_object[\"baseUrl\"]}/api/files/',\n",
    "    json=update_data,\n",
    "    headers=headers,\n",
    "    verify=False\n",
    ")\n",
    "\n",
    "update_request_data = update_request.json()\n",
    "\n",
    "print(json.dumps(update_request_data, indent=2))"
   ]
  }
 ],
 "metadata": {
  "kernelspec": {
   "display_name": "Python 3",
   "language": "python",
   "name": "python3"
  },
  "language_info": {
   "codemirror_mode": {
    "name": "ipython",
    "version": 3
   },
   "file_extension": ".py",
   "mimetype": "text/x-python",
   "name": "python",
   "nbconvert_exporter": "python",
   "pygments_lexer": "ipython3",
   "version": "3.10.1"
  },
  "orig_nbformat": 4
 },
 "nbformat": 4,
 "nbformat_minor": 2
}
